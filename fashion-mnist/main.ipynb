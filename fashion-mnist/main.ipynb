{
 "cells": [
  {
   "cell_type": "markdown",
   "metadata": {},
   "source": [
    "# Fashion MNIST Classification\n",
    "In this notebook, I will be using PyTorch to create a model that classifies clothing images from the fashion MNIST dataset. We will start by downloading the data, and adding that to DataLoaders"
   ]
  },
  {
   "cell_type": "code",
   "execution_count": 1,
   "metadata": {},
   "outputs": [
    {
     "name": "stderr",
     "output_type": "stream",
     "text": [
      "c:\\Users\\qmirz\\AppData\\Local\\Programs\\Python\\Python311\\Lib\\site-packages\\tqdm\\auto.py:21: TqdmWarning: IProgress not found. Please update jupyter and ipywidgets. See https://ipywidgets.readthedocs.io/en/stable/user_install.html\n",
      "  from .autonotebook import tqdm as notebook_tqdm\n"
     ]
    }
   ],
   "source": [
    "import torch\n",
    "import torchvision\n",
    "from torchvision import transforms\n",
    "train_data = torchvision.datasets.FashionMNIST(root='./data', train=True, download=True, transform=transforms.ToTensor())\n",
    "test_data = torchvision.datasets.FashionMNIST(root='./data', train=False, download=True, transform=transforms.ToTensor())\n",
    "train_loader = torch.utils.data.DataLoader(train_data, batch_size=64, shuffle=True)\n",
    "test_loader = torch.utils.data.DataLoader(test_data, batch_size=64, shuffle=True)"
   ]
  },
  {
   "cell_type": "markdown",
   "metadata": {},
   "source": [
    "Now, let's define some global variables which will be useful when keeping track of the models output shapes"
   ]
  },
  {
   "cell_type": "code",
   "execution_count": 2,
   "metadata": {},
   "outputs": [
    {
     "name": "stdout",
     "output_type": "stream",
     "text": [
      "Image Size:28x28\n",
      "Number of Classes:10\n",
      "Input Size: 1 channel(s)\n"
     ]
    }
   ],
   "source": [
    "img_size = train_data[0][0].shape[1]\n",
    "num_classes = len(train_data.classes)\n",
    "input_size = train_data[0][0].shape[0]\n",
    "\n",
    "print(f\"Image Size:{img_size}x{img_size}\\nNumber of Classes:{num_classes}\\nInput Size: {input_size} channel(s)\")"
   ]
  },
  {
   "cell_type": "markdown",
   "metadata": {},
   "source": [
    "We can now define the model class, I'm going to train my own model which consists of 2 convolutional blocks and a single fully connected layer, we'll then see how it goes from there. I may also implement a transfer learning approach using resnet-50 to try and increase the accuracy!"
   ]
  },
  {
   "cell_type": "code",
   "execution_count": 3,
   "metadata": {},
   "outputs": [],
   "source": [
    "import torch.nn as nn\n",
    "class MultiClassCNN(nn.Module):\n",
    "    def __init__(self, input_size, num_classes):\n",
    "        super(MultiClassCNN, self).__init__()\n",
    "        self.conv1 = nn.Conv2d(in_channels=input_size, out_channels=16, kernel_size=2, stride=2) # 16X14X14\n",
    "        self.relu1 = nn.ReLU()\n",
    "        self.pool1 = nn.MaxPool2d(kernel_size=2, stride=2) # 16x7x7\n",
    "        \n",
    "        self.conv2 = nn.Conv2d(in_channels=16, out_channels=32, kernel_size=3, stride=2) # 32x3x3\n",
    "        self.relu2 = nn.ReLU()\n",
    "        self.pool2 = nn.MaxPool2d(kernel_size=2, stride=2) # 32x1x1\n",
    "\n",
    "        self.flatten = nn.Flatten()\n",
    "        self.fc1 = nn.Linear(32, num_classes)\n",
    "\n",
    "    def forward(self, x):\n",
    "        x = self.conv1(x)\n",
    "        x = self.relu1(x)\n",
    "        x = self.pool1(x)\n",
    "        x = self.conv2(x)\n",
    "        x = self.relu2(x)\n",
    "        x = self.pool2(x)\n",
    "        x = self.flatten(x)\n",
    "        x = self.fc1(x)\n",
    "        return x"
   ]
  },
  {
   "cell_type": "code",
   "execution_count": 4,
   "metadata": {},
   "outputs": [
    {
     "name": "stdout",
     "output_type": "stream",
     "text": [
      "MultiClassCNN(\n",
      "  (conv1): Conv2d(1, 16, kernel_size=(2, 2), stride=(2, 2))\n",
      "  (relu1): ReLU()\n",
      "  (pool1): MaxPool2d(kernel_size=2, stride=2, padding=0, dilation=1, ceil_mode=False)\n",
      "  (conv2): Conv2d(16, 32, kernel_size=(3, 3), stride=(2, 2))\n",
      "  (relu2): ReLU()\n",
      "  (pool2): MaxPool2d(kernel_size=2, stride=2, padding=0, dilation=1, ceil_mode=False)\n",
      "  (flatten): Flatten(start_dim=1, end_dim=-1)\n",
      "  (fc1): Linear(in_features=32, out_features=10, bias=True)\n",
      ")\n"
     ]
    }
   ],
   "source": [
    "# instantiate device\n",
    "device = torch.device('cuda' if torch.cuda.is_available() else 'cpu')\n",
    "# Instantiate the model\n",
    "model = MultiClassCNN(input_size, num_classes).to(device)\n",
    "print(model)"
   ]
  },
  {
   "cell_type": "markdown",
   "metadata": {},
   "source": [
    "Coming from tensorflow, I always found looking at the model summary to be helpful to improve the interpretability of our model. In PyTorch, I found that by calling summary on the model, with your desired input size, it acts as a form of sanity check that ensures your model has the right output channel as the feature vectors propagates through the layers. \n",
    "\n",
    "If it's incorrect, summary() will error and tell you why the model isn't right which is so helpful!"
   ]
  },
  {
   "cell_type": "code",
   "execution_count": 5,
   "metadata": {},
   "outputs": [
    {
     "name": "stdout",
     "output_type": "stream",
     "text": [
      "----------------------------------------------------------------\n",
      "        Layer (type)               Output Shape         Param #\n",
      "================================================================\n",
      "            Conv2d-1           [-1, 16, 14, 14]              80\n",
      "              ReLU-2           [-1, 16, 14, 14]               0\n",
      "         MaxPool2d-3             [-1, 16, 7, 7]               0\n",
      "            Conv2d-4             [-1, 32, 3, 3]           4,640\n",
      "              ReLU-5             [-1, 32, 3, 3]               0\n",
      "         MaxPool2d-6             [-1, 32, 1, 1]               0\n",
      "           Flatten-7                   [-1, 32]               0\n",
      "            Linear-8                   [-1, 10]             330\n",
      "================================================================\n",
      "Total params: 5,050\n",
      "Trainable params: 5,050\n",
      "Non-trainable params: 0\n",
      "----------------------------------------------------------------\n",
      "Input size (MB): 0.00\n",
      "Forward/backward pass size (MB): 0.06\n",
      "Params size (MB): 0.02\n",
      "Estimated Total Size (MB): 0.08\n",
      "----------------------------------------------------------------\n"
     ]
    }
   ],
   "source": [
    "from torchsummary import summary\n",
    "summary(model, (input_size, img_size, img_size))"
   ]
  },
  {
   "cell_type": "code",
   "execution_count": 6,
   "metadata": {},
   "outputs": [
    {
     "name": "stdout",
     "output_type": "stream",
     "text": [
      "Epoch [1/25], Step [100/938], Loss: 1.8441\n",
      "Epoch [1/25], Step [200/938], Loss: 1.1460\n",
      "Epoch [1/25], Step [300/938], Loss: 0.8195\n",
      "Epoch [1/25], Step [400/938], Loss: 0.7639\n",
      "Epoch [1/25], Step [500/938], Loss: 0.6717\n",
      "Epoch [1/25], Step [600/938], Loss: 0.6145\n",
      "Epoch [1/25], Step [700/938], Loss: 0.8090\n",
      "Epoch [1/25], Step [800/938], Loss: 0.6948\n",
      "Epoch [1/25], Step [900/938], Loss: 0.5854\n",
      "Epoch [1/25], Accuracy: 65.84%\n",
      "Epoch [2/25], Step [100/938], Loss: 0.5825\n",
      "Epoch [2/25], Step [200/938], Loss: 0.6848\n",
      "Epoch [2/25], Step [300/938], Loss: 0.6188\n",
      "Epoch [2/25], Step [400/938], Loss: 0.4982\n",
      "Epoch [2/25], Step [500/938], Loss: 0.5191\n",
      "Epoch [2/25], Step [600/938], Loss: 0.4918\n",
      "Epoch [2/25], Step [700/938], Loss: 0.6447\n",
      "Epoch [2/25], Step [800/938], Loss: 0.4504\n",
      "Epoch [2/25], Step [900/938], Loss: 0.7368\n",
      "Epoch [2/25], Accuracy: 77.15%\n",
      "Epoch [3/25], Step [100/938], Loss: 0.4254\n",
      "Epoch [3/25], Step [200/938], Loss: 0.6325\n",
      "Epoch [3/25], Step [300/938], Loss: 0.5059\n",
      "Epoch [3/25], Step [400/938], Loss: 0.6484\n",
      "Epoch [3/25], Step [500/938], Loss: 0.3551\n",
      "Epoch [3/25], Step [600/938], Loss: 0.6416\n",
      "Epoch [3/25], Step [700/938], Loss: 0.6264\n",
      "Epoch [3/25], Step [800/938], Loss: 0.7191\n",
      "Epoch [3/25], Step [900/938], Loss: 0.7505\n",
      "Epoch [3/25], Accuracy: 79.50%\n",
      "Epoch [4/25], Step [100/938], Loss: 0.7232\n",
      "Epoch [4/25], Step [200/938], Loss: 0.4885\n",
      "Epoch [4/25], Step [300/938], Loss: 0.5904\n",
      "Epoch [4/25], Step [400/938], Loss: 0.5894\n",
      "Epoch [4/25], Step [500/938], Loss: 0.6179\n",
      "Epoch [4/25], Step [600/938], Loss: 0.3773\n",
      "Epoch [4/25], Step [700/938], Loss: 0.4455\n",
      "Epoch [4/25], Step [800/938], Loss: 0.4541\n",
      "Epoch [4/25], Step [900/938], Loss: 0.5237\n",
      "Epoch [4/25], Accuracy: 80.66%\n",
      "Epoch [5/25], Step [100/938], Loss: 0.7543\n",
      "Epoch [5/25], Step [200/938], Loss: 0.5589\n",
      "Epoch [5/25], Step [300/938], Loss: 0.5022\n",
      "Epoch [5/25], Step [400/938], Loss: 0.7681\n",
      "Epoch [5/25], Step [500/938], Loss: 0.4718\n",
      "Epoch [5/25], Step [600/938], Loss: 0.5098\n",
      "Epoch [5/25], Step [700/938], Loss: 0.6523\n",
      "Epoch [5/25], Step [800/938], Loss: 0.6553\n",
      "Epoch [5/25], Step [900/938], Loss: 0.5274\n",
      "Epoch [5/25], Accuracy: 81.30%\n",
      "Epoch [6/25], Step [100/938], Loss: 0.6084\n",
      "Epoch [6/25], Step [200/938], Loss: 0.5550\n",
      "Epoch [6/25], Step [300/938], Loss: 0.5396\n",
      "Epoch [6/25], Step [400/938], Loss: 0.4465\n",
      "Epoch [6/25], Step [500/938], Loss: 0.6571\n",
      "Epoch [6/25], Step [600/938], Loss: 0.4861\n",
      "Epoch [6/25], Step [700/938], Loss: 0.4941\n",
      "Epoch [6/25], Step [800/938], Loss: 0.7241\n",
      "Epoch [6/25], Step [900/938], Loss: 0.4710\n",
      "Epoch [6/25], Accuracy: 81.88%\n",
      "Epoch [7/25], Step [100/938], Loss: 0.3798\n",
      "Epoch [7/25], Step [200/938], Loss: 0.4738\n",
      "Epoch [7/25], Step [300/938], Loss: 0.4500\n",
      "Epoch [7/25], Step [400/938], Loss: 0.6021\n",
      "Epoch [7/25], Step [500/938], Loss: 0.5917\n",
      "Epoch [7/25], Step [600/938], Loss: 0.5081\n",
      "Epoch [7/25], Step [700/938], Loss: 0.6218\n",
      "Epoch [7/25], Step [800/938], Loss: 0.4651\n",
      "Epoch [7/25], Step [900/938], Loss: 0.3931\n",
      "Epoch [7/25], Accuracy: 82.17%\n",
      "Epoch [8/25], Step [100/938], Loss: 0.4885\n",
      "Epoch [8/25], Step [200/938], Loss: 0.4342\n",
      "Epoch [8/25], Step [300/938], Loss: 0.6545\n",
      "Epoch [8/25], Step [400/938], Loss: 0.4627\n",
      "Epoch [8/25], Step [500/938], Loss: 0.4383\n",
      "Epoch [8/25], Step [600/938], Loss: 0.5316\n",
      "Epoch [8/25], Step [700/938], Loss: 0.6603\n",
      "Epoch [8/25], Step [800/938], Loss: 0.4919\n",
      "Epoch [8/25], Step [900/938], Loss: 0.5001\n",
      "Epoch [8/25], Accuracy: 82.62%\n",
      "Epoch [9/25], Step [100/938], Loss: 0.2531\n",
      "Epoch [9/25], Step [200/938], Loss: 0.3513\n",
      "Epoch [9/25], Step [300/938], Loss: 0.5757\n",
      "Epoch [9/25], Step [400/938], Loss: 0.7986\n",
      "Epoch [9/25], Step [500/938], Loss: 0.4231\n",
      "Epoch [9/25], Step [600/938], Loss: 0.5127\n",
      "Epoch [9/25], Step [700/938], Loss: 0.8013\n",
      "Epoch [9/25], Step [800/938], Loss: 0.4017\n",
      "Epoch [9/25], Step [900/938], Loss: 0.4449\n",
      "Epoch [9/25], Accuracy: 82.90%\n",
      "Epoch [10/25], Step [100/938], Loss: 0.4415\n",
      "Epoch [10/25], Step [200/938], Loss: 0.5374\n",
      "Epoch [10/25], Step [300/938], Loss: 0.3200\n",
      "Epoch [10/25], Step [400/938], Loss: 0.4727\n",
      "Epoch [10/25], Step [500/938], Loss: 0.4671\n",
      "Epoch [10/25], Step [600/938], Loss: 0.2726\n",
      "Epoch [10/25], Step [700/938], Loss: 0.3166\n",
      "Epoch [10/25], Step [800/938], Loss: 0.5798\n",
      "Epoch [10/25], Step [900/938], Loss: 0.3165\n",
      "Epoch [10/25], Accuracy: 83.10%\n",
      "Epoch [11/25], Step [100/938], Loss: 0.6239\n",
      "Epoch [11/25], Step [200/938], Loss: 0.4187\n",
      "Epoch [11/25], Step [300/938], Loss: 0.3483\n",
      "Epoch [11/25], Step [400/938], Loss: 0.5837\n",
      "Epoch [11/25], Step [500/938], Loss: 0.4956\n",
      "Epoch [11/25], Step [600/938], Loss: 0.5421\n",
      "Epoch [11/25], Step [700/938], Loss: 0.4173\n",
      "Epoch [11/25], Step [800/938], Loss: 0.5146\n",
      "Epoch [11/25], Step [900/938], Loss: 0.4698\n",
      "Epoch [11/25], Accuracy: 83.33%\n",
      "Epoch [12/25], Step [100/938], Loss: 0.4120\n",
      "Epoch [12/25], Step [200/938], Loss: 0.3377\n",
      "Epoch [12/25], Step [300/938], Loss: 0.2533\n",
      "Epoch [12/25], Step [400/938], Loss: 0.3901\n",
      "Epoch [12/25], Step [500/938], Loss: 0.5495\n",
      "Epoch [12/25], Step [600/938], Loss: 0.3842\n",
      "Epoch [12/25], Step [700/938], Loss: 0.6894\n",
      "Epoch [12/25], Step [800/938], Loss: 0.4379\n",
      "Epoch [12/25], Step [900/938], Loss: 0.5333\n",
      "Epoch [12/25], Accuracy: 83.58%\n",
      "Epoch [13/25], Step [100/938], Loss: 0.4379\n",
      "Epoch [13/25], Step [200/938], Loss: 0.4317\n",
      "Epoch [13/25], Step [300/938], Loss: 0.4317\n",
      "Epoch [13/25], Step [400/938], Loss: 0.5810\n",
      "Epoch [13/25], Step [500/938], Loss: 0.4575\n",
      "Epoch [13/25], Step [600/938], Loss: 0.3333\n",
      "Epoch [13/25], Step [700/938], Loss: 0.5924\n",
      "Epoch [13/25], Step [800/938], Loss: 0.2977\n",
      "Epoch [13/25], Step [900/938], Loss: 0.4273\n",
      "Epoch [13/25], Accuracy: 83.80%\n",
      "Epoch [14/25], Step [100/938], Loss: 0.2872\n",
      "Epoch [14/25], Step [200/938], Loss: 0.4649\n",
      "Epoch [14/25], Step [300/938], Loss: 0.4794\n",
      "Epoch [14/25], Step [400/938], Loss: 0.3450\n",
      "Epoch [14/25], Step [500/938], Loss: 0.4439\n",
      "Epoch [14/25], Step [600/938], Loss: 0.4017\n",
      "Epoch [14/25], Step [700/938], Loss: 0.3888\n",
      "Epoch [14/25], Step [800/938], Loss: 0.5456\n",
      "Epoch [14/25], Step [900/938], Loss: 0.5676\n",
      "Epoch [14/25], Accuracy: 83.86%\n",
      "Epoch [15/25], Step [100/938], Loss: 0.3482\n",
      "Epoch [15/25], Step [200/938], Loss: 0.5506\n",
      "Epoch [15/25], Step [300/938], Loss: 0.4719\n",
      "Epoch [15/25], Step [400/938], Loss: 0.3334\n",
      "Epoch [15/25], Step [500/938], Loss: 0.5855\n",
      "Epoch [15/25], Step [600/938], Loss: 0.4600\n",
      "Epoch [15/25], Step [700/938], Loss: 0.4741\n",
      "Epoch [15/25], Step [800/938], Loss: 0.2938\n",
      "Epoch [15/25], Step [900/938], Loss: 0.4717\n",
      "Epoch [15/25], Accuracy: 84.04%\n",
      "Epoch [16/25], Step [100/938], Loss: 0.3203\n",
      "Epoch [16/25], Step [200/938], Loss: 0.4234\n",
      "Epoch [16/25], Step [300/938], Loss: 0.3144\n",
      "Epoch [16/25], Step [400/938], Loss: 0.2996\n",
      "Epoch [16/25], Step [500/938], Loss: 0.3824\n",
      "Epoch [16/25], Step [600/938], Loss: 0.4441\n",
      "Epoch [16/25], Step [700/938], Loss: 0.3419\n",
      "Epoch [16/25], Step [800/938], Loss: 0.6757\n",
      "Epoch [16/25], Step [900/938], Loss: 0.5938\n",
      "Epoch [16/25], Accuracy: 84.18%\n",
      "Epoch [17/25], Step [100/938], Loss: 0.5226\n",
      "Epoch [17/25], Step [200/938], Loss: 0.4815\n",
      "Epoch [17/25], Step [300/938], Loss: 0.4919\n",
      "Epoch [17/25], Step [400/938], Loss: 0.3813\n",
      "Epoch [17/25], Step [500/938], Loss: 0.3899\n",
      "Epoch [17/25], Step [600/938], Loss: 0.2785\n",
      "Epoch [17/25], Step [700/938], Loss: 0.3161\n",
      "Epoch [17/25], Step [800/938], Loss: 0.6552\n",
      "Epoch [17/25], Step [900/938], Loss: 0.4678\n",
      "Epoch [17/25], Accuracy: 84.34%\n",
      "Epoch [18/25], Step [100/938], Loss: 0.3989\n",
      "Epoch [18/25], Step [200/938], Loss: 0.5226\n",
      "Epoch [18/25], Step [300/938], Loss: 0.5348\n",
      "Epoch [18/25], Step [400/938], Loss: 0.4822\n",
      "Epoch [18/25], Step [500/938], Loss: 0.2998\n",
      "Epoch [18/25], Step [600/938], Loss: 0.2869\n",
      "Epoch [18/25], Step [700/938], Loss: 0.4196\n",
      "Epoch [18/25], Step [800/938], Loss: 0.5040\n",
      "Epoch [18/25], Step [900/938], Loss: 0.4362\n",
      "Epoch [18/25], Accuracy: 84.39%\n",
      "Epoch [19/25], Step [100/938], Loss: 0.5498\n",
      "Epoch [19/25], Step [200/938], Loss: 0.5622\n",
      "Epoch [19/25], Step [300/938], Loss: 0.4273\n",
      "Epoch [19/25], Step [400/938], Loss: 0.3143\n",
      "Epoch [19/25], Step [500/938], Loss: 0.4180\n",
      "Epoch [19/25], Step [600/938], Loss: 0.4043\n",
      "Epoch [19/25], Step [700/938], Loss: 0.4826\n",
      "Epoch [19/25], Step [800/938], Loss: 0.3736\n",
      "Epoch [19/25], Step [900/938], Loss: 0.3804\n",
      "Epoch [19/25], Accuracy: 84.57%\n",
      "Epoch [20/25], Step [100/938], Loss: 0.4392\n",
      "Epoch [20/25], Step [200/938], Loss: 0.4967\n",
      "Epoch [20/25], Step [300/938], Loss: 0.3263\n",
      "Epoch [20/25], Step [400/938], Loss: 0.3901\n",
      "Epoch [20/25], Step [500/938], Loss: 0.3912\n",
      "Epoch [20/25], Step [600/938], Loss: 0.5997\n",
      "Epoch [20/25], Step [700/938], Loss: 0.2804\n",
      "Epoch [20/25], Step [800/938], Loss: 0.2471\n",
      "Epoch [20/25], Step [900/938], Loss: 0.4994\n",
      "Epoch [20/25], Accuracy: 84.77%\n",
      "Epoch [21/25], Step [100/938], Loss: 0.3994\n",
      "Epoch [21/25], Step [200/938], Loss: 0.4319\n",
      "Epoch [21/25], Step [300/938], Loss: 0.2276\n",
      "Epoch [21/25], Step [400/938], Loss: 0.4275\n",
      "Epoch [21/25], Step [500/938], Loss: 0.2457\n",
      "Epoch [21/25], Step [600/938], Loss: 0.5503\n",
      "Epoch [21/25], Step [700/938], Loss: 0.3246\n",
      "Epoch [21/25], Step [800/938], Loss: 0.5858\n",
      "Epoch [21/25], Step [900/938], Loss: 0.6106\n",
      "Epoch [21/25], Accuracy: 84.80%\n",
      "Epoch [22/25], Step [100/938], Loss: 0.3767\n",
      "Epoch [22/25], Step [200/938], Loss: 0.4131\n",
      "Epoch [22/25], Step [300/938], Loss: 0.2659\n",
      "Epoch [22/25], Step [400/938], Loss: 0.2780\n",
      "Epoch [22/25], Step [500/938], Loss: 0.5721\n",
      "Epoch [22/25], Step [600/938], Loss: 0.4866\n",
      "Epoch [22/25], Step [700/938], Loss: 0.4933\n",
      "Epoch [22/25], Step [800/938], Loss: 0.2924\n",
      "Epoch [22/25], Step [900/938], Loss: 0.2800\n",
      "Epoch [22/25], Accuracy: 84.85%\n",
      "Epoch [23/25], Step [100/938], Loss: 0.5705\n",
      "Epoch [23/25], Step [200/938], Loss: 0.2380\n",
      "Epoch [23/25], Step [300/938], Loss: 0.4772\n",
      "Epoch [23/25], Step [400/938], Loss: 0.2574\n",
      "Epoch [23/25], Step [500/938], Loss: 0.2542\n",
      "Epoch [23/25], Step [600/938], Loss: 0.3918\n",
      "Epoch [23/25], Step [700/938], Loss: 0.4958\n",
      "Epoch [23/25], Step [800/938], Loss: 0.5306\n",
      "Epoch [23/25], Step [900/938], Loss: 0.3769\n",
      "Epoch [23/25], Accuracy: 84.98%\n",
      "Epoch [24/25], Step [100/938], Loss: 0.5402\n",
      "Epoch [24/25], Step [200/938], Loss: 0.4512\n",
      "Epoch [24/25], Step [300/938], Loss: 0.6621\n",
      "Epoch [24/25], Step [400/938], Loss: 0.4169\n",
      "Epoch [24/25], Step [500/938], Loss: 0.5257\n",
      "Epoch [24/25], Step [600/938], Loss: 0.4673\n",
      "Epoch [24/25], Step [700/938], Loss: 0.5351\n",
      "Epoch [24/25], Step [800/938], Loss: 0.5070\n",
      "Epoch [24/25], Step [900/938], Loss: 0.4713\n",
      "Epoch [24/25], Accuracy: 85.09%\n",
      "Epoch [25/25], Step [100/938], Loss: 0.2535\n",
      "Epoch [25/25], Step [200/938], Loss: 0.3652\n",
      "Epoch [25/25], Step [300/938], Loss: 0.3648\n",
      "Epoch [25/25], Step [400/938], Loss: 0.4288\n",
      "Epoch [25/25], Step [500/938], Loss: 0.2620\n",
      "Epoch [25/25], Step [600/938], Loss: 0.3705\n",
      "Epoch [25/25], Step [700/938], Loss: 0.5238\n",
      "Epoch [25/25], Step [800/938], Loss: 0.3505\n",
      "Epoch [25/25], Step [900/938], Loss: 0.5358\n",
      "Epoch [25/25], Accuracy: 85.08%\n"
     ]
    }
   ],
   "source": [
    "criterion = nn.CrossEntropyLoss()\n",
    "optimizer = torch.optim.Adam(model.parameters(), lr=0.001)\n",
    "\n",
    "# Train the model\n",
    "n_total_steps = len(train_loader)\n",
    "num_epochs = 25\n",
    "losses_per_epoch = []\n",
    "acc_per_epoch = []\n",
    "\n",
    "for epoch in range(num_epochs):\n",
    "    total_correct = 0\n",
    "    total_samples = 0\n",
    "    \n",
    "    for i, (images, labels) in enumerate(train_loader):\n",
    "        images = images.to(device)\n",
    "        labels = labels.to(device)\n",
    "\n",
    "        # Forward pass\n",
    "        outputs = model(images)\n",
    "        loss = criterion(outputs, labels)\n",
    "        \n",
    "        # Count correct predictions\n",
    "        _, predicted = torch.max(outputs, 1)\n",
    "        total_correct += (predicted == labels).sum().item()\n",
    "        total_samples += labels.size(0)\n",
    "\n",
    "        # Backward and optimize\n",
    "        optimizer.zero_grad()\n",
    "        loss.backward()\n",
    "        optimizer.step()\n",
    "\n",
    "        if (i+1) % 100 == 0:\n",
    "            print(f'Epoch [{epoch+1}/{num_epochs}], Step [{i+1}/{n_total_steps}], Loss: {loss.item():.4f}')\n",
    "    \n",
    "    # Calculate accuracy\n",
    "    accuracy = 100 * total_correct / total_samples\n",
    "    acc_per_epoch.append(accuracy)\n",
    "    \n",
    "    losses_per_epoch.append(loss.item())\n",
    "\n",
    "    print(f'Epoch [{epoch+1}/{num_epochs}], Accuracy: {accuracy:.2f}%')\n"
   ]
  },
  {
   "cell_type": "markdown",
   "metadata": {},
   "source": [
    "I used many epochs just for fun, obviously I run the risk of overfitting the data though. We can verify if this is true when we compare it to the test data later hehe."
   ]
  },
  {
   "cell_type": "code",
   "execution_count": 7,
   "metadata": {},
   "outputs": [
    {
     "data": {
      "image/png": "[encoded data removed]",
      "text/plain": [
       "<Figure size 1000x500 with 1 Axes>"
      ]
     },
     "metadata": {},
     "output_type": "display_data"
    }
   ],
   "source": [
    "import matplotlib.pyplot as plt\n",
    "plt.figure(figsize=(10,5))\n",
    "plt.title(\"Loss During Training\")\n",
    "plt.ylabel(\"Loss\")\n",
    "plt.plot(losses_per_epoch, label=\"Loss\")\n",
    "plt.show()\n"
   ]
  },
  {
   "cell_type": "code",
   "execution_count": 8,
   "metadata": {},
   "outputs": [
    {
     "data": {
      "image/png": "[encoded data removed]",
      "text/plain": [
       "<Figure size 1000x500 with 1 Axes>"
      ]
     },
     "metadata": {},
     "output_type": "display_data"
    }
   ],
   "source": [
    "# plot accuracy \n",
    "plt.figure(figsize=(10, 5))\n",
    "plt.plot(acc_per_epoch, label='accuracy')\n",
    "plt.title(\"Accuracy During Training\")\n",
    "plt.ylabel('Accuracy')\n",
    "plt.xlabel(\"Epochs\")\n",
    "plt.show()"
   ]
  },
  {
   "cell_type": "markdown",
   "metadata": {},
   "source": [
    "Now let's compare this data to our testing data."
   ]
  },
  {
   "cell_type": "code",
   "execution_count": 9,
   "metadata": {},
   "outputs": [
    {
     "name": "stdout",
     "output_type": "stream",
     "text": [
      "Accuracy of the network on the 10000 test images: 83.99 %\n"
     ]
    }
   ],
   "source": [
    "# Evaluate the model\n",
    "model.eval()\n",
    "\n",
    "with torch.no_grad():\n",
    "    n_correct = 0\n",
    "    n_samples = 0\n",
    "    for images, labels in test_loader:\n",
    "        images = images.to(device)\n",
    "        labels = labels.to(device)\n",
    "        outputs = model(images)\n",
    "        # max returns (value ,index)\n",
    "        _, predicted = torch.max(outputs, 1)\n",
    "        n_samples += labels.size(0)\n",
    "        n_correct += (predicted == labels).sum().item()\n",
    "\n",
    "    acc = 100.0 * n_correct / n_samples\n",
    "    print(f'Accuracy of the network on the 10000 test images: {acc} %')"
   ]
  },
  {
   "cell_type": "markdown",
   "metadata": {},
   "source": [
    "Since the difference between our model train accuracy and test accuracy is low, we can say that the model did not overfit even after 100 epochs. However, the upshot of this is that the model is not performing that good. Relatively low training accuracy and test accuracy implies that the model is underfitting and there's high bias."
   ]
  },
  {
   "cell_type": "markdown",
   "metadata": {},
   "source": [
    "## Conclusion"
   ]
  },
  {
   "cell_type": "markdown",
   "metadata": {},
   "source": [
    "As you've seen throughout the notebook, we just went through the general process of building a CNN to classify fashion images. Some improvements could be made through data augmentation or perhaps training on another type of model. \n",
    "\n",
    "Some lessons I learned:\n",
    "1. Make sure to keep a mental note of when and where you move the model and data to the device (CPU / GPU)\n",
    "2. Define Global Variables upfront so that it makes model building, training and testing a lot easier"
   ]
  }
 ],
 "metadata": {
  "kernelspec": {
   "display_name": "Python 3",
   "language": "python",
   "name": "python3"
  },
  "language_info": {
   "codemirror_mode": {
    "name": "ipython",
    "version": 3
   },
   "file_extension": ".py",
   "mimetype": "text/x-python",
   "name": "python",
   "nbconvert_exporter": "python",
   "pygments_lexer": "ipython3",
   "version": "3.11.7"
  }
 },
 "nbformat": 4,
 "nbformat_minor": 2
}
