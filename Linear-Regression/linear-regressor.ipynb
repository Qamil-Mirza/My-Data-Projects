{
 "cells": [
  {
   "cell_type": "code",
   "execution_count": 65,
   "metadata": {},
   "outputs": [],
   "source": [
    "# importing the zipfile module \n",
    "from zipfile import ZipFile \n",
    "  \n",
    "# loading the temp.zip and creating a zip object \n",
    "with ZipFile(\"archive (1).zip\", 'r') as zObject: \n",
    "  \n",
    "    # Extracting all the members of the zip  \n",
    "    # into a specific location. \n",
    "    zObject.extractall() "
   ]
  },
  {
   "cell_type": "code",
   "execution_count": 66,
   "metadata": {},
   "outputs": [],
   "source": [
    "import tensorflow as tf \n",
    "import numpy as np\n",
    "import pandas as pd\n",
    "import matplotlib.pyplot as plt \n",
    "import seaborn as sns "
   ]
  },
  {
   "cell_type": "markdown",
   "metadata": {},
   "source": [
    "# Exploratory Data Analysis"
   ]
  },
  {
   "cell_type": "code",
   "execution_count": 67,
   "metadata": {},
   "outputs": [
    {
     "data": {
      "text/html": [
       "<div>\n",
       "<style scoped>\n",
       "    .dataframe tbody tr th:only-of-type {\n",
       "        vertical-align: middle;\n",
       "    }\n",
       "\n",
       "    .dataframe tbody tr th {\n",
       "        vertical-align: top;\n",
       "    }\n",
       "\n",
       "    .dataframe thead th {\n",
       "        text-align: right;\n",
       "    }\n",
       "</style>\n",
       "<table border=\"1\" class=\"dataframe\">\n",
       "  <thead>\n",
       "    <tr style=\"text-align: right;\">\n",
       "      <th></th>\n",
       "      <th>SquareFeet</th>\n",
       "      <th>Bedrooms</th>\n",
       "      <th>Bathrooms</th>\n",
       "      <th>Neighborhood</th>\n",
       "      <th>YearBuilt</th>\n",
       "      <th>Price</th>\n",
       "    </tr>\n",
       "  </thead>\n",
       "  <tbody>\n",
       "    <tr>\n",
       "      <th>0</th>\n",
       "      <td>2126</td>\n",
       "      <td>4</td>\n",
       "      <td>1</td>\n",
       "      <td>Rural</td>\n",
       "      <td>1969</td>\n",
       "      <td>215355.283618</td>\n",
       "    </tr>\n",
       "    <tr>\n",
       "      <th>1</th>\n",
       "      <td>2459</td>\n",
       "      <td>3</td>\n",
       "      <td>2</td>\n",
       "      <td>Rural</td>\n",
       "      <td>1980</td>\n",
       "      <td>195014.221626</td>\n",
       "    </tr>\n",
       "    <tr>\n",
       "      <th>2</th>\n",
       "      <td>1860</td>\n",
       "      <td>2</td>\n",
       "      <td>1</td>\n",
       "      <td>Suburb</td>\n",
       "      <td>1970</td>\n",
       "      <td>306891.012076</td>\n",
       "    </tr>\n",
       "    <tr>\n",
       "      <th>3</th>\n",
       "      <td>2294</td>\n",
       "      <td>2</td>\n",
       "      <td>1</td>\n",
       "      <td>Urban</td>\n",
       "      <td>1996</td>\n",
       "      <td>206786.787153</td>\n",
       "    </tr>\n",
       "    <tr>\n",
       "      <th>4</th>\n",
       "      <td>2130</td>\n",
       "      <td>5</td>\n",
       "      <td>2</td>\n",
       "      <td>Suburb</td>\n",
       "      <td>2001</td>\n",
       "      <td>272436.239065</td>\n",
       "    </tr>\n",
       "  </tbody>\n",
       "</table>\n",
       "</div>"
      ],
      "text/plain": [
       "   SquareFeet  Bedrooms  Bathrooms Neighborhood  YearBuilt          Price\n",
       "0        2126         4          1        Rural       1969  215355.283618\n",
       "1        2459         3          2        Rural       1980  195014.221626\n",
       "2        1860         2          1       Suburb       1970  306891.012076\n",
       "3        2294         2          1        Urban       1996  206786.787153\n",
       "4        2130         5          2       Suburb       2001  272436.239065"
      ]
     },
     "execution_count": 67,
     "metadata": {},
     "output_type": "execute_result"
    }
   ],
   "source": [
    "# Start with Data Analysis and Visualization\n",
    "house_price_df = pd.read_csv('housing_price_dataset.csv')\n",
    "house_price_df.head()"
   ]
  },
  {
   "cell_type": "code",
   "execution_count": 68,
   "metadata": {},
   "outputs": [
    {
     "data": {
      "text/plain": [
       "SquareFeet      0\n",
       "Bedrooms        0\n",
       "Bathrooms       0\n",
       "Neighborhood    0\n",
       "YearBuilt       0\n",
       "Price           0\n",
       "dtype: int64"
      ]
     },
     "execution_count": 68,
     "metadata": {},
     "output_type": "execute_result"
    }
   ],
   "source": [
    "# Check for missing values\n",
    "house_price_df.isnull().sum()"
   ]
  },
  {
   "cell_type": "markdown",
   "metadata": {},
   "source": [
    "Let's see the correlation between 'SquareFeet', 'Bedrooms', 'Bathrooms' with 'Price'"
   ]
  },
  {
   "cell_type": "code",
   "execution_count": null,
   "metadata": {},
   "outputs": [],
   "source": []
  },
  {
   "cell_type": "code",
   "execution_count": 69,
   "metadata": {},
   "outputs": [
    {
     "data": {
      "image/png": "[encoded data removed]",
      "text/plain": [
       "<Figure size 460.8x345.6 with 3 Axes>"
      ]
     },
     "metadata": {
      "needs_background": "light"
     },
     "output_type": "display_data"
    }
   ],
   "source": [
    "fig, (ax1, ax2, ax3) = plt.subplots(1, 3, figsize=(6.4, 4.8))\n",
    "\n",
    "sns.scatterplot(data=house_price_df, x='SquareFeet', y='Price', ax=ax1)\n",
    "ax1.set_title(\"SquareFeet vs Price\")\n",
    "\n",
    "sns.scatterplot(data=house_price_df, x='Bedrooms', y='Price', ax=ax2)\n",
    "ax2.set_title(\"Bedrooms vs Price\")\n",
    "\n",
    "sns.scatterplot(data=house_price_df, x='Bathrooms', y='Price', ax=ax3)\n",
    "ax3.set_title(\"Bathrooms vs Price\")\n",
    "\n",
    "plt.tight_layout()\n",
    "plt.show()\n"
   ]
  },
  {
   "cell_type": "markdown",
   "metadata": {},
   "source": [
    "In the most left plot, we can see a somewhat linear relationship between square feet and price of the house. This may imply a linear model would be suitable. We can't really get much info from Bedrooms and Bathrooms though. "
   ]
  },
  {
   "cell_type": "code",
   "execution_count": 70,
   "metadata": {},
   "outputs": [
    {
     "data": {
      "image/png": "[encoded data removed]",
      "text/plain": [
       "<Figure size 460.8x345.6 with 2 Axes>"
      ]
     },
     "metadata": {
      "needs_background": "light"
     },
     "output_type": "display_data"
    }
   ],
   "source": [
    "# We can do a bar chart for bedroom and bathrooms though\n",
    "fig, (ax1, ax2) = plt.subplots(1, 2, figsize=(6.4, 4.8))\n",
    "\n",
    "sns.barplot(data=house_price_df, x='Bedrooms', y='Price', ax=ax1, ci=False)\n",
    "ax1.set_title('bedroom num and price')\n",
    "\n",
    "sns.barplot(data=house_price_df, x='Bathrooms', y='Price', ax=ax2, ci=False)\n",
    "ax2.set_title('bathroom num and price')\n",
    "\n",
    "plt.tight_layout()\n",
    "plt.show()"
   ]
  },
  {
   "cell_type": "markdown",
   "metadata": {},
   "source": [
    "It really looks like theres very minimal correlation between number of bedrooms and bathrooms with house price."
   ]
  },
  {
   "cell_type": "markdown",
   "metadata": {},
   "source": [
    "# Model Building \n",
    "\n",
    "The data looks like it's in order. We know everything we need to know now. For this notebook, since I want to use it to practice, we will make 2 models:\n",
    "\n",
    "1. Supervised Learning: Linear Regression Model\n",
    "2. Supervised Learning: Basic Neural Network w/ Dense Layers"
   ]
  },
  {
   "cell_type": "markdown",
   "metadata": {},
   "source": [
    "For the first model, I want to try three approaches:\n",
    "\n",
    "1. Normal Equation - Linear Algebra\n",
    "2. Pure Numpy Implementation\n",
    "3. sklearn"
   ]
  },
  {
   "cell_type": "markdown",
   "metadata": {},
   "source": [
    "## Approach 1: Normal Equation"
   ]
  },
  {
   "cell_type": "markdown",
   "metadata": {},
   "source": [
    "Based on our analysis above, we will only carry out this algorithm with a single input feature that is 'SquareFeet'.\n",
    "\n",
    "First we need to define the normal equation:\n",
    "\n",
    "A.T * A * x = A.T * y\n",
    "\n",
    "note: In code we will not use * to represent matrix multiplcation because * actually represent element-wise operation, instead we will do np.matmul(a,b)"
   ]
  },
  {
   "cell_type": "code",
   "execution_count": 71,
   "metadata": {},
   "outputs": [
    {
     "name": "stdout",
     "output_type": "stream",
     "text": [
      "the shape of a at this instance: (50000, 1)\n",
      "the shape of a at this instance: (50000, 2)\n"
     ]
    }
   ],
   "source": [
    "square_feet_column = house_price_df['SquareFeet'].array\n",
    "y = house_price_df['Price'].array\n",
    "\n",
    "# We build our X matrix as such\n",
    "a = np.ones_like(square_feet_column).reshape(-1,1)\n",
    "print(f\"the shape of a at this instance: {a.shape}\")\n",
    "\n",
    "a = np.concatenate((a, square_feet_column.reshape(-1, 1)), axis=1)\n",
    "print(f\"the shape of a at this instance: {a.shape}\")"
   ]
  },
  {
   "cell_type": "code",
   "execution_count": 72,
   "metadata": {},
   "outputs": [
    {
     "name": "stdout",
     "output_type": "stream",
     "text": [
      "[[   1 2126]\n",
      " [   1 2459]\n",
      " [   1 1860]\n",
      " [   1 2294]\n",
      " [   1 2130]]\n",
      "<PandasArray>\n",
      "[215355.28361820136, 195014.22162584803,  306891.0120763329,\n",
      " 206786.78715332696,   272436.239065061]\n",
      "Length: 5, dtype: float64\n"
     ]
    }
   ],
   "source": [
    "# Let's print a few examples of x and y\n",
    "print(a[:5])\n",
    "print(y[:5])"
   ]
  },
  {
   "cell_type": "markdown",
   "metadata": {},
   "source": [
    "Ok now we have A and Y, we simply have to follow the algorithm. Next step is to solve the values of slope, w and constant, b"
   ]
  },
  {
   "cell_type": "code",
   "execution_count": 73,
   "metadata": {},
   "outputs": [
    {
     "name": "stdout",
     "output_type": "stream",
     "text": [
      "AT * A has shape: (2, 2)\n",
      "AT * Y has shape: (2, 1)\n"
     ]
    }
   ],
   "source": [
    "at_a = np.matmul(a.T, a)\n",
    "print(f\"AT * A has shape: {at_a.shape}\")\n",
    "\n",
    "at_y = np.matmul(a.T, y.reshape(-1,1))\n",
    "print(f\"AT * Y has shape: {at_y.shape}\")"
   ]
  },
  {
   "cell_type": "markdown",
   "metadata": {},
   "source": [
    "Ok, all that's left to find our parameters is to row reduce. COOL FACT, we can define a function for row reducing via recursion! "
   ]
  },
  {
   "cell_type": "code",
   "execution_count": 74,
   "metadata": {},
   "outputs": [],
   "source": [
    "def row_echelon(A):\n",
    "    \"\"\" Return Row Echelon Form of matrix A \"\"\"\n",
    "\n",
    "    # if matrix A has no columns or rows,\n",
    "    # it is already in REF, so we return itself\n",
    "    r, c = A.shape\n",
    "    if r == 0 or c == 0:\n",
    "        return A\n",
    "\n",
    "    # we search for non-zero element in the first column\n",
    "    for i in range(len(A)):\n",
    "        if A[i,0] != 0:\n",
    "            break\n",
    "    else:\n",
    "        # if all elements in the first column is zero,\n",
    "        # we perform REF on matrix from second column\n",
    "        B = row_echelon(A[:,1:])\n",
    "        # and then add the first zero-column back\n",
    "        return np.hstack([A[:,:1], B])\n",
    "\n",
    "    # if non-zero element happens not in the first row,\n",
    "    # we switch rows\n",
    "    if i > 0:\n",
    "        ith_row = A[i].copy()\n",
    "        A[i] = A[0]\n",
    "        A[0] = ith_row\n",
    "\n",
    "    # we divide first row by first element in it\n",
    "    A[0] = A[0] / A[0,0]\n",
    "    # we subtract all subsequent rows with first row (it has 1 now as first element)\n",
    "    # multiplied by the corresponding element in the first column\n",
    "    A[1:] -= A[0] * A[1:,0:1]\n",
    "\n",
    "    # we perform REF on matrix from second row, from second column\n",
    "    B = row_echelon(A[1:,1:])\n",
    "\n",
    "    # we add first row and first (zero) column, and return\n",
    "    return np.vstack([A[:1], np.hstack([A[1:,:1], B]) ])"
   ]
  },
  {
   "cell_type": "code",
   "execution_count": 75,
   "metadata": {},
   "outputs": [
    {
     "data": {
      "text/plain": [
       "array([[5.00000000e+04, 1.00318734e+08, 1.12413663e+10],\n",
       "       [1.00318734e+08, 2.17837411e+11, 2.41992108e+13]])"
      ]
     },
     "execution_count": 75,
     "metadata": {},
     "output_type": "execute_result"
    }
   ],
   "source": [
    "# Now we create an augmented matrix \n",
    "aug_matrix = np.concatenate((at_a, at_y), axis=1)\n",
    "aug_matrix"
   ]
  },
  {
   "cell_type": "code",
   "execution_count": 76,
   "metadata": {},
   "outputs": [
    {
     "data": {
      "text/plain": [
       "array([[1.00000000e+00, 2.00637468e+03, 2.24827325e+05],\n",
       "       [0.00000000e+00, 1.00000000e+00, 9.93221075e+01]])"
      ]
     },
     "execution_count": 76,
     "metadata": {},
     "output_type": "execute_result"
    }
   ],
   "source": [
    "rref = row_echelon(aug_matrix)\n",
    "rref"
   ]
  },
  {
   "cell_type": "markdown",
   "metadata": {},
   "source": [
    "Note that for the rref(augmented_matrix) column 1 represents b, our constant term and column 2 represents w, our slope"
   ]
  },
  {
   "cell_type": "code",
   "execution_count": 77,
   "metadata": {},
   "outputs": [
    {
     "name": "stdout",
     "output_type": "stream",
     "text": [
      "Our parameters are as follows:\n",
      "      Weight,w (slope): 99.32210752486009\n",
      "      Constant,b (intercept) 25549.96344887372\n",
      "      \n"
     ]
    }
   ],
   "source": [
    "w = rref[1,2]\n",
    "b = rref[0,2] - rref[0,1]*w\n",
    "\n",
    "print(f\"\"\"Our parameters are as follows:\n",
    "      Weight,w (slope): {w}\n",
    "      Constant,b (intercept) {b}\n",
    "      \"\"\")"
   ]
  },
  {
   "cell_type": "code",
   "execution_count": 78,
   "metadata": {},
   "outputs": [
    {
     "data": {
      "text/plain": [
       "[<matplotlib.lines.Line2D at 0x1dee00a80d0>]"
      ]
     },
     "execution_count": 78,
     "metadata": {},
     "output_type": "execute_result"
    },
    {
     "data": {
      "image/png": "[encoded data removed]",
      "text/plain": [
       "<Figure size 432x288 with 1 Axes>"
      ]
     },
     "metadata": {
      "needs_background": "light"
     },
     "output_type": "display_data"
    }
   ],
   "source": [
    "# Now we can plot the line \n",
    "x_test = np.arange(0, 3000)\n",
    "\n",
    "y_pred = w*x_test + b\n",
    "\n",
    "plt.plot(x_test, y_pred)"
   ]
  },
  {
   "cell_type": "code",
   "execution_count": 79,
   "metadata": {},
   "outputs": [
    {
     "name": "stdout",
     "output_type": "stream",
     "text": [
      "The Mean Squared Error: 2530128229.4533277\n"
     ]
    }
   ],
   "source": [
    "# To do: Calculate mean squared error\n",
    "\n",
    "def mse(y_pred, y_actual, m):\n",
    "    \"\"\"\n",
    "    Parameters:\n",
    "    y_pred: array of predictions based of the created line of best fit\n",
    "    y_actual: array of ground truth labels\n",
    "    m: int, number of training examples\n",
    "\n",
    "    Returns:\n",
    "    mse: float, mean squared error value\n",
    "    \"\"\"\n",
    "\n",
    "    mse = np.sum((y_pred - y_actual)**2) / (m)\n",
    "\n",
    "    return mse\n",
    "\n",
    "x_test = house_price_df['SquareFeet'].array\n",
    "m = len(x_test)\n",
    "y_pred_on_df = w*x_test + b\n",
    "error = mse(y_pred_on_df, y, m=m)\n",
    "print(f'The Mean Squared Error: {error}')\n",
    "    "
   ]
  },
  {
   "cell_type": "code",
   "execution_count": 80,
   "metadata": {},
   "outputs": [
    {
     "name": "stdout",
     "output_type": "stream",
     "text": [
      "one example of y_actual: 195014.22162584803, but we predicted: 269783.02585250465\n"
     ]
    }
   ],
   "source": [
    "print(f\"one example of y_actual: {y[1]}, but we predicted: {y_pred_on_df[1]}\")"
   ]
  },
  {
   "cell_type": "code",
   "execution_count": 81,
   "metadata": {},
   "outputs": [
    {
     "data": {
      "image/png": "[encoded data removed]",
      "text/plain": [
       "<Figure size 432x288 with 1 Axes>"
      ]
     },
     "metadata": {
      "needs_background": "light"
     },
     "output_type": "display_data"
    }
   ],
   "source": [
    "plt.scatter(x_test, y=y, label='Actual Values')\n",
    "plt.plot(x_test, y_pred_on_df, color='red', label='Best Fit Line')\n",
    "\n",
    "plt.title('Best Fit Line and Actual Values')\n",
    "plt.xlabel('SquareFeet')\n",
    "plt.ylabel('Actual Price')\n",
    "plt.legend()\n",
    "plt.show()"
   ]
  },
  {
   "cell_type": "code",
   "execution_count": 82,
   "metadata": {},
   "outputs": [
    {
     "data": {
      "text/html": [
       "<div>\n",
       "<style scoped>\n",
       "    .dataframe tbody tr th:only-of-type {\n",
       "        vertical-align: middle;\n",
       "    }\n",
       "\n",
       "    .dataframe tbody tr th {\n",
       "        vertical-align: top;\n",
       "    }\n",
       "\n",
       "    .dataframe thead th {\n",
       "        text-align: right;\n",
       "    }\n",
       "</style>\n",
       "<table border=\"1\" class=\"dataframe\">\n",
       "  <thead>\n",
       "    <tr style=\"text-align: right;\">\n",
       "      <th></th>\n",
       "      <th>SquareFeet</th>\n",
       "      <th>Bedrooms</th>\n",
       "      <th>Bathrooms</th>\n",
       "      <th>YearBuilt</th>\n",
       "      <th>Price</th>\n",
       "    </tr>\n",
       "  </thead>\n",
       "  <tbody>\n",
       "    <tr>\n",
       "      <th>count</th>\n",
       "      <td>50000.000000</td>\n",
       "      <td>50000.000000</td>\n",
       "      <td>50000.000000</td>\n",
       "      <td>50000.000000</td>\n",
       "      <td>50000.000000</td>\n",
       "    </tr>\n",
       "    <tr>\n",
       "      <th>mean</th>\n",
       "      <td>2006.374680</td>\n",
       "      <td>3.498700</td>\n",
       "      <td>1.995420</td>\n",
       "      <td>1985.404420</td>\n",
       "      <td>224827.325151</td>\n",
       "    </tr>\n",
       "    <tr>\n",
       "      <th>std</th>\n",
       "      <td>575.513241</td>\n",
       "      <td>1.116326</td>\n",
       "      <td>0.815851</td>\n",
       "      <td>20.719377</td>\n",
       "      <td>76141.842966</td>\n",
       "    </tr>\n",
       "    <tr>\n",
       "      <th>min</th>\n",
       "      <td>1000.000000</td>\n",
       "      <td>2.000000</td>\n",
       "      <td>1.000000</td>\n",
       "      <td>1950.000000</td>\n",
       "      <td>-36588.165397</td>\n",
       "    </tr>\n",
       "    <tr>\n",
       "      <th>25%</th>\n",
       "      <td>1513.000000</td>\n",
       "      <td>3.000000</td>\n",
       "      <td>1.000000</td>\n",
       "      <td>1967.000000</td>\n",
       "      <td>169955.860225</td>\n",
       "    </tr>\n",
       "    <tr>\n",
       "      <th>50%</th>\n",
       "      <td>2007.000000</td>\n",
       "      <td>3.000000</td>\n",
       "      <td>2.000000</td>\n",
       "      <td>1985.000000</td>\n",
       "      <td>225052.141166</td>\n",
       "    </tr>\n",
       "    <tr>\n",
       "      <th>75%</th>\n",
       "      <td>2506.000000</td>\n",
       "      <td>4.000000</td>\n",
       "      <td>3.000000</td>\n",
       "      <td>2003.000000</td>\n",
       "      <td>279373.630052</td>\n",
       "    </tr>\n",
       "    <tr>\n",
       "      <th>max</th>\n",
       "      <td>2999.000000</td>\n",
       "      <td>5.000000</td>\n",
       "      <td>3.000000</td>\n",
       "      <td>2021.000000</td>\n",
       "      <td>492195.259972</td>\n",
       "    </tr>\n",
       "  </tbody>\n",
       "</table>\n",
       "</div>"
      ],
      "text/plain": [
       "         SquareFeet      Bedrooms     Bathrooms     YearBuilt          Price\n",
       "count  50000.000000  50000.000000  50000.000000  50000.000000   50000.000000\n",
       "mean    2006.374680      3.498700      1.995420   1985.404420  224827.325151\n",
       "std      575.513241      1.116326      0.815851     20.719377   76141.842966\n",
       "min     1000.000000      2.000000      1.000000   1950.000000  -36588.165397\n",
       "25%     1513.000000      3.000000      1.000000   1967.000000  169955.860225\n",
       "50%     2007.000000      3.000000      2.000000   1985.000000  225052.141166\n",
       "75%     2506.000000      4.000000      3.000000   2003.000000  279373.630052\n",
       "max     2999.000000      5.000000      3.000000   2021.000000  492195.259972"
      ]
     },
     "execution_count": 82,
     "metadata": {},
     "output_type": "execute_result"
    }
   ],
   "source": [
    "house_price_df.describe()"
   ]
  },
  {
   "cell_type": "markdown",
   "metadata": {},
   "source": [
    "So that's why our mean squared error is so high AHAHHA. I made a crucial mistake, let's do a 80/20 split on training to testing data when we carry out the next approach. Also, I will make sure to carry out feature scaling for both variables."
   ]
  },
  {
   "cell_type": "markdown",
   "metadata": {},
   "source": [
    "## Approach 2: Numpy w/ Gradient Descent"
   ]
  },
  {
   "cell_type": "markdown",
   "metadata": {},
   "source": [
    "The first step would be to pre-process our data as such"
   ]
  },
  {
   "cell_type": "code",
   "execution_count": 83,
   "metadata": {},
   "outputs": [
    {
     "data": {
      "text/html": [
       "<div>\n",
       "<style scoped>\n",
       "    .dataframe tbody tr th:only-of-type {\n",
       "        vertical-align: middle;\n",
       "    }\n",
       "\n",
       "    .dataframe tbody tr th {\n",
       "        vertical-align: top;\n",
       "    }\n",
       "\n",
       "    .dataframe thead th {\n",
       "        text-align: right;\n",
       "    }\n",
       "</style>\n",
       "<table border=\"1\" class=\"dataframe\">\n",
       "  <thead>\n",
       "    <tr style=\"text-align: right;\">\n",
       "      <th></th>\n",
       "      <th>SquareFeet</th>\n",
       "      <th>Bedrooms</th>\n",
       "      <th>Bathrooms</th>\n",
       "      <th>Neighborhood</th>\n",
       "      <th>YearBuilt</th>\n",
       "      <th>Price</th>\n",
       "    </tr>\n",
       "  </thead>\n",
       "  <tbody>\n",
       "    <tr>\n",
       "      <th>0</th>\n",
       "      <td>2126</td>\n",
       "      <td>4</td>\n",
       "      <td>1</td>\n",
       "      <td>Rural</td>\n",
       "      <td>1969</td>\n",
       "      <td>215355.283618</td>\n",
       "    </tr>\n",
       "    <tr>\n",
       "      <th>1</th>\n",
       "      <td>2459</td>\n",
       "      <td>3</td>\n",
       "      <td>2</td>\n",
       "      <td>Rural</td>\n",
       "      <td>1980</td>\n",
       "      <td>195014.221626</td>\n",
       "    </tr>\n",
       "    <tr>\n",
       "      <th>2</th>\n",
       "      <td>1860</td>\n",
       "      <td>2</td>\n",
       "      <td>1</td>\n",
       "      <td>Suburb</td>\n",
       "      <td>1970</td>\n",
       "      <td>306891.012076</td>\n",
       "    </tr>\n",
       "    <tr>\n",
       "      <th>3</th>\n",
       "      <td>2294</td>\n",
       "      <td>2</td>\n",
       "      <td>1</td>\n",
       "      <td>Urban</td>\n",
       "      <td>1996</td>\n",
       "      <td>206786.787153</td>\n",
       "    </tr>\n",
       "    <tr>\n",
       "      <th>4</th>\n",
       "      <td>2130</td>\n",
       "      <td>5</td>\n",
       "      <td>2</td>\n",
       "      <td>Suburb</td>\n",
       "      <td>2001</td>\n",
       "      <td>272436.239065</td>\n",
       "    </tr>\n",
       "  </tbody>\n",
       "</table>\n",
       "</div>"
      ],
      "text/plain": [
       "   SquareFeet  Bedrooms  Bathrooms Neighborhood  YearBuilt          Price\n",
       "0        2126         4          1        Rural       1969  215355.283618\n",
       "1        2459         3          2        Rural       1980  195014.221626\n",
       "2        1860         2          1       Suburb       1970  306891.012076\n",
       "3        2294         2          1        Urban       1996  206786.787153\n",
       "4        2130         5          2       Suburb       2001  272436.239065"
      ]
     },
     "execution_count": 83,
     "metadata": {},
     "output_type": "execute_result"
    }
   ],
   "source": [
    "house_price_df.head()"
   ]
  },
  {
   "cell_type": "code",
   "execution_count": 84,
   "metadata": {},
   "outputs": [],
   "source": [
    "train_df = house_price_df[['SquareFeet', 'Price']][0:40000]\n",
    "test_df = house_price_df[['SquareFeet', 'Price']][40000:50000]"
   ]
  },
  {
   "cell_type": "code",
   "execution_count": 85,
   "metadata": {},
   "outputs": [],
   "source": [
    "x_train = train_df['SquareFeet'].array\n",
    "y_train = train_df['Price'].array"
   ]
  },
  {
   "cell_type": "markdown",
   "metadata": {},
   "source": [
    "Now we have to scale the data. For this I'll use z-normalization."
   ]
  },
  {
   "cell_type": "code",
   "execution_count": 86,
   "metadata": {},
   "outputs": [],
   "source": [
    "def z_normalize(data):\n",
    "    \"\"\"\n",
    "    DOCUMENTATION\n",
    "    \"\"\"\n",
    "\n",
    "    data_mean = np.mean(data)\n",
    "    data_std = np.std(data)\n",
    "\n",
    "    data_norm = (data - data_mean) / data_std\n",
    "\n",
    "    return data_norm\n",
    "\n",
    "# Normalize training data\n",
    "x_train = z_normalize(x_train)\n",
    "y_train = z_normalize(y_train)"
   ]
  },
  {
   "cell_type": "markdown",
   "metadata": {},
   "source": [
    "Next, we'll implement the gradient descent algorithm to get optimal parameters."
   ]
  },
  {
   "cell_type": "code",
   "execution_count": 87,
   "metadata": {},
   "outputs": [],
   "source": [
    "def gradient_descent(x, y, w, b, epochs=10, alpha=0.01):\n",
    "    \"\"\"\n",
    "    DOCUMENTATION\n",
    "    \"\"\"\n",
    "    m = x_train.shape[0]\n",
    "    cost_basket = []\n",
    "    num_iter = []\n",
    "\n",
    "    for i in range(epochs):\n",
    "        y_pred = np.dot(w,x) + b\n",
    "\n",
    "        # IMPLEMENT COST FUNCTION HERE\n",
    "        cost = np.sum((y_pred - y)**2) / (2*m)\n",
    "\n",
    "\n",
    "        dj_dw = np.sum((y_pred - y)*x)\n",
    "        dj_db = np.sum((y_pred - y))\n",
    "\n",
    "        dj_dw, dj_db = (1/m)*dj_dw, (1/m)*dj_db\n",
    "\n",
    "        w = w - alpha*dj_dw\n",
    "        b = b - alpha*dj_db\n",
    "\n",
    "        if i%10 == 0:\n",
    "            cost_basket.append(cost)\n",
    "            num_iter.append(i)\n",
    "            print(f\"Epoch: {i} | Cost: {cost:.2e}\")\n",
    "\n",
    "    return w,b, cost_basket, num_iter\n"
   ]
  },
  {
   "cell_type": "code",
   "execution_count": 88,
   "metadata": {},
   "outputs": [
    {
     "name": "stdout",
     "output_type": "stream",
     "text": [
      "Epoch: 0 | Cost: 3.38e+08\n",
      "Epoch: 10 | Cost: 3.31e+08\n",
      "Epoch: 20 | Cost: 3.25e+08\n",
      "Epoch: 30 | Cost: 3.18e+08\n",
      "Epoch: 40 | Cost: 3.12e+08\n",
      "Epoch: 50 | Cost: 3.06e+08\n",
      "Epoch: 60 | Cost: 3.00e+08\n",
      "Epoch: 70 | Cost: 2.94e+08\n",
      "Epoch: 80 | Cost: 2.88e+08\n",
      "Epoch: 90 | Cost: 2.82e+08\n",
      "Epoch: 100 | Cost: 2.77e+08\n",
      "Epoch: 110 | Cost: 2.71e+08\n",
      "Epoch: 120 | Cost: 2.66e+08\n",
      "Epoch: 130 | Cost: 2.61e+08\n",
      "Epoch: 140 | Cost: 2.55e+08\n",
      "Epoch: 150 | Cost: 2.50e+08\n",
      "Epoch: 160 | Cost: 2.45e+08\n",
      "Epoch: 170 | Cost: 2.41e+08\n",
      "Epoch: 180 | Cost: 2.36e+08\n",
      "Epoch: 190 | Cost: 2.31e+08\n",
      "Epoch: 200 | Cost: 2.27e+08\n",
      "Epoch: 210 | Cost: 2.22e+08\n",
      "Epoch: 220 | Cost: 2.18e+08\n",
      "Epoch: 230 | Cost: 2.13e+08\n",
      "Epoch: 240 | Cost: 2.09e+08\n",
      "Epoch: 250 | Cost: 2.05e+08\n"
     ]
    },
    {
     "name": "stdout",
     "output_type": "stream",
     "text": [
      "Epoch: 260 | Cost: 2.01e+08\n",
      "Epoch: 270 | Cost: 1.97e+08\n",
      "Epoch: 280 | Cost: 1.93e+08\n",
      "Epoch: 290 | Cost: 1.89e+08\n",
      "Epoch: 300 | Cost: 1.85e+08\n",
      "Epoch: 310 | Cost: 1.82e+08\n",
      "Epoch: 320 | Cost: 1.78e+08\n",
      "Epoch: 330 | Cost: 1.75e+08\n",
      "Epoch: 340 | Cost: 1.71e+08\n",
      "Epoch: 350 | Cost: 1.68e+08\n",
      "Epoch: 360 | Cost: 1.64e+08\n",
      "Epoch: 370 | Cost: 1.61e+08\n",
      "Epoch: 380 | Cost: 1.58e+08\n",
      "Epoch: 390 | Cost: 1.55e+08\n",
      "Epoch: 400 | Cost: 1.52e+08\n",
      "Epoch: 410 | Cost: 1.49e+08\n",
      "Epoch: 420 | Cost: 1.46e+08\n",
      "Epoch: 430 | Cost: 1.43e+08\n",
      "Epoch: 440 | Cost: 1.40e+08\n",
      "Epoch: 450 | Cost: 1.37e+08\n",
      "Epoch: 460 | Cost: 1.35e+08\n",
      "Epoch: 470 | Cost: 1.32e+08\n",
      "Epoch: 480 | Cost: 1.29e+08\n",
      "Epoch: 490 | Cost: 1.27e+08\n",
      "Epoch: 500 | Cost: 1.24e+08\n",
      "Epoch: 510 | Cost: 1.22e+08\n",
      "Epoch: 520 | Cost: 1.19e+08\n",
      "Epoch: 530 | Cost: 1.17e+08\n",
      "Epoch: 540 | Cost: 1.15e+08\n",
      "Epoch: 550 | Cost: 1.12e+08\n",
      "Epoch: 560 | Cost: 1.10e+08\n",
      "Epoch: 570 | Cost: 1.08e+08\n",
      "Epoch: 580 | Cost: 1.06e+08\n",
      "Epoch: 590 | Cost: 1.04e+08\n",
      "Epoch: 600 | Cost: 1.02e+08\n",
      "Epoch: 610 | Cost: 9.97e+07\n",
      "Epoch: 620 | Cost: 9.78e+07\n",
      "Epoch: 630 | Cost: 9.58e+07\n",
      "Epoch: 640 | Cost: 9.39e+07\n",
      "Epoch: 650 | Cost: 9.21e+07\n",
      "Epoch: 660 | Cost: 9.02e+07\n",
      "Epoch: 670 | Cost: 8.84e+07\n",
      "Epoch: 680 | Cost: 8.67e+07\n",
      "Epoch: 690 | Cost: 8.50e+07\n",
      "Epoch: 700 | Cost: 8.33e+07\n",
      "Epoch: 710 | Cost: 8.16e+07\n",
      "Epoch: 720 | Cost: 8.00e+07\n",
      "Epoch: 730 | Cost: 7.84e+07\n",
      "Epoch: 740 | Cost: 7.69e+07\n",
      "Epoch: 750 | Cost: 7.54e+07\n",
      "Epoch: 760 | Cost: 7.39e+07\n",
      "Epoch: 770 | Cost: 7.24e+07\n",
      "Epoch: 780 | Cost: 7.10e+07\n",
      "Epoch: 790 | Cost: 6.96e+07\n",
      "Epoch: 800 | Cost: 6.82e+07\n",
      "Epoch: 810 | Cost: 6.68e+07\n",
      "Epoch: 820 | Cost: 6.55e+07\n",
      "Epoch: 830 | Cost: 6.42e+07\n",
      "Epoch: 840 | Cost: 6.29e+07\n",
      "Epoch: 850 | Cost: 6.17e+07\n",
      "Epoch: 860 | Cost: 6.05e+07\n",
      "Epoch: 870 | Cost: 5.93e+07\n",
      "Epoch: 880 | Cost: 5.81e+07\n",
      "Epoch: 890 | Cost: 5.69e+07\n",
      "Epoch: 900 | Cost: 5.58e+07\n",
      "Epoch: 910 | Cost: 5.47e+07\n",
      "Epoch: 920 | Cost: 5.36e+07\n",
      "Epoch: 930 | Cost: 5.26e+07\n",
      "Epoch: 940 | Cost: 5.15e+07\n",
      "Epoch: 950 | Cost: 5.05e+07\n",
      "Epoch: 960 | Cost: 4.95e+07\n",
      "Epoch: 970 | Cost: 4.85e+07\n",
      "Epoch: 980 | Cost: 4.76e+07\n",
      "Epoch: 990 | Cost: 4.66e+07\n",
      "After 1000 iterations, optimal w is 37.244096137080874, and optimal b is 9560.081044045059\n"
     ]
    }
   ],
   "source": [
    "W, B, cb, ni = gradient_descent(x_train, y_train, w=100, b=26000, epochs=1000, alpha=0.001)\n",
    "\n",
    "print(f\"After 1000 iterations, optimal w is {W}, and optimal b is {B}\")"
   ]
  },
  {
   "cell_type": "markdown",
   "metadata": {},
   "source": [
    "As we can see, the gradient descent algorithm seems to be implemented well due to the constant decrement in cost function. In fact, I want to plot these values against iterations"
   ]
  },
  {
   "cell_type": "code",
   "execution_count": 89,
   "metadata": {},
   "outputs": [
    {
     "data": {
      "image/png": "[encoded data removed]",
      "text/plain": [
       "<Figure size 432x288 with 1 Axes>"
      ]
     },
     "metadata": {
      "needs_background": "light"
     },
     "output_type": "display_data"
    }
   ],
   "source": [
    "plt.plot(ni, cb)\n",
    "plt.xlabel(\"Iteration\")\n",
    "plt.ylabel(\"Cost\")\n",
    "plt.title(\"Cost against Iteration\")\n",
    "plt.show()"
   ]
  },
  {
   "cell_type": "markdown",
   "metadata": {},
   "source": [
    "This is roughly what we are looking for, a curve approach its local minimal (or in my case since I'm using a single variable, the local minima is the global minima!). Now let's plot the line based on parameters found by the gradient descent algorithm"
   ]
  },
  {
   "cell_type": "code",
   "execution_count": 90,
   "metadata": {},
   "outputs": [],
   "source": [
    "yhat_train = z_normalize(W*x_train + B)"
   ]
  },
  {
   "cell_type": "code",
   "execution_count": 91,
   "metadata": {},
   "outputs": [
    {
     "name": "stdout",
     "output_type": "stream",
     "text": [
      "MSE: 0.19958851657949547\n"
     ]
    }
   ],
   "source": [
    "error_train = np.sum((yhat_train-y_train)**2) / (2*m)\n",
    "\n",
    "print(f\"MSE: {error_train}\")"
   ]
  },
  {
   "cell_type": "code",
   "execution_count": 92,
   "metadata": {},
   "outputs": [
    {
     "data": {
      "image/png": "[encoded data removed]",
      "text/plain": [
       "<Figure size 432x288 with 1 Axes>"
      ]
     },
     "metadata": {
      "needs_background": "light"
     },
     "output_type": "display_data"
    }
   ],
   "source": [
    "plt.scatter(x_train[:50], y=y_train[:50], label='Actual Values')\n",
    "plt.plot(x_train, yhat_train, color='red', label='Best Fit Line')\n",
    "\n",
    "plt.title('Best Fit Line and Actual Values')\n",
    "plt.xlabel('SquareFeet')\n",
    "plt.ylabel('Actual Price')\n",
    "plt.legend()\n",
    "plt.show()"
   ]
  },
  {
   "cell_type": "markdown",
   "metadata": {},
   "source": [
    "Finally Let's test our model on the testing set we created earlier."
   ]
  },
  {
   "cell_type": "code",
   "execution_count": 93,
   "metadata": {},
   "outputs": [
    {
     "name": "stdout",
     "output_type": "stream",
     "text": [
      "The mean squared error is 0.049699636692381546\n"
     ]
    }
   ],
   "source": [
    "x_test = test_df['SquareFeet'].array\n",
    "y_test = test_df['Price'].array\n",
    "\n",
    "# Normalize these values\n",
    "x_test = z_normalize(x_test)\n",
    "y_test = z_normalize(y_test)\n",
    "\n",
    "# Make Predictions\n",
    "yhat_test = z_normalize(W * x_test + B)\n",
    "\n",
    "# Find MSE\n",
    "error = np.sum((yhat_test-y_test)**2) / (2*m)\n",
    "\n",
    "print(f\"The mean squared error is {error}\")"
   ]
  },
  {
   "cell_type": "code",
   "execution_count": 94,
   "metadata": {},
   "outputs": [
    {
     "data": {
      "image/png": "[encoded data removed]",
      "text/plain": [
       "<Figure size 432x288 with 1 Axes>"
      ]
     },
     "metadata": {
      "needs_background": "light"
     },
     "output_type": "display_data"
    }
   ],
   "source": [
    "plt.scatter(x_test[:50], y_test[:50], label=\"Actual Values\")\n",
    "plt.plot(x_test, yhat_test, label='Best Fit Line', color='red')\n",
    "plt.xlabel(\"Square Feet\")\n",
    "plt.ylabel(\"Price\")\n",
    "plt.title(\"Best Fit Line Against True Values\")\n",
    "plt.show()"
   ]
  },
  {
   "cell_type": "code",
   "execution_count": 95,
   "metadata": {},
   "outputs": [
    {
     "name": "stdout",
     "output_type": "stream",
     "text": [
      "The training set Error: 0.19958851657949547 | The testing set Error: 0.049699636692381546\n"
     ]
    }
   ],
   "source": [
    "# Print out comparison between training MSE and test MSE\n",
    "\n",
    "print(f\"The training set Error: {error_train} | The testing set Error: {error}\")"
   ]
  },
  {
   "cell_type": "markdown",
   "metadata": {},
   "source": [
    "So based on my results, we can see that the model did much better on the test set relative to the train set. Hence, this could be a sign that I'm underfitting the model, and so there's high bias in the model. What we can try moving forward is adding complexity to the model:\n",
    "\n",
    "1. I can add more polynomial features\n",
    "2. I can use the additional features that were available\n",
    "\n",
    "*note: applying regularization here wouldn't make sense because the model is not overfitting, but underfitting."
   ]
  },
  {
   "cell_type": "markdown",
   "metadata": {},
   "source": [
    "### Improving The Model\n",
    "\n",
    "I'm first going to try adding polynomial features, such that, my equation is in the form y = w_1.x + w_2.x**2 + b . Other processes will roughly look the same. From this point on though, I want to get a bit more practice with sklearn, so we will use that library instead."
   ]
  },
  {
   "cell_type": "code",
   "execution_count": 96,
   "metadata": {},
   "outputs": [
    {
     "data": {
      "text/plain": [
       "array([[ 2.03691191e-01,  4.14901013e-02,  8.45116813e-03, ...,\n",
       "         3.50639822e-04,  7.14222428e-05,  1.45480817e-05],\n",
       "       [ 7.82746278e-01,  6.12691735e-01,  4.79582175e-01, ...,\n",
       "         2.93836035e-01,  2.29999063e-01,  1.80030910e-01],\n",
       "       [-2.58857317e-01,  6.70071105e-02, -1.73452808e-02, ...,\n",
       "        -1.16225715e-03,  3.00858768e-04, -7.78794933e-05],\n",
       "       ...,\n",
       "       [ 4.76699145e-01,  2.27242075e-01,  1.08326103e-01, ...,\n",
       "         2.46162483e-02,  1.17345445e-02,  5.59384733e-03],\n",
       "       [ 5.84511203e-01,  3.41653346e-01,  1.99700209e-01, ...,\n",
       "         6.82282445e-02,  3.98801733e-02,  2.33104081e-02],\n",
       "       [-1.62215818e+00,  2.63139717e+00, -4.26854245e+00, ...,\n",
       "        -1.12322305e+01,  1.82204546e+01, -2.95564595e+01]])"
      ]
     },
     "execution_count": 96,
     "metadata": {},
     "output_type": "execute_result"
    }
   ],
   "source": [
    "X = np.c_[x_train, x_train**2, x_train**3, x_train**4, x_train**5, x_train**6, x_train**7]\n",
    "X"
   ]
  },
  {
   "cell_type": "code",
   "execution_count": 97,
   "metadata": {},
   "outputs": [],
   "source": [
    "def poly_gradient_descent(X, y, w=0, b=0, iter=1000, alpha=0.01):\n",
    "    m = X.shape[0]\n",
    "    y = y.reshape(1, -1)\n",
    "\n",
    "    for i in range(iter+1):\n",
    "        yhat = np.dot(X, w) + b\n",
    "        # Cost function\n",
    "        cost = np.sum((yhat - y) ** 2) / (2 * m)\n",
    "\n",
    "        # Get Derivatives\n",
    "        dj_dw = np.sum((yhat - y) * X.T, axis=1)\n",
    "        dj_db = np.sum(yhat - y)\n",
    "\n",
    "        dj_dw, dj_db = (1 / m) * dj_dw, (1 / m) * dj_db\n",
    "\n",
    "        # Update weights\n",
    "        w = w - alpha*dj_dw\n",
    "        b = b - alpha*dj_db\n",
    "\n",
    "        if i % 10 == 0:\n",
    "            print(f\"Iteration {i} | Cost: {cost}\")\n",
    "\n",
    "    return w, b\n",
    "\n"
   ]
  },
  {
   "cell_type": "code",
   "execution_count": 98,
   "metadata": {},
   "outputs": [
    {
     "name": "stdout",
     "output_type": "stream",
     "text": [
      "Iteration 0 | Cost: 0.4999999999999999\n",
      "Iteration 10 | Cost: 0.3155168092225444\n",
      "Iteration 20 | Cost: 0.2949380974432678\n",
      "Iteration 30 | Cost: 0.2808978634382719\n",
      "Iteration 40 | Cost: 0.2699763155656777\n",
      "Iteration 50 | Cost: 0.2614442615750969\n"
     ]
    },
    {
     "name": "stdout",
     "output_type": "stream",
     "text": [
      "Iteration 60 | Cost: 0.25476741870272174\n",
      "Iteration 70 | Cost: 0.2495316456470966\n",
      "Iteration 80 | Cost: 0.24541551327007752\n",
      "Iteration 90 | Cost: 0.24216952655625165\n",
      "Iteration 100 | Cost: 0.23960001216207089\n",
      "Iteration 110 | Cost: 0.23755661717198062\n",
      "Iteration 120 | Cost: 0.23592260920177868\n",
      "Iteration 130 | Cost: 0.23460734978845293\n",
      "Iteration 140 | Cost: 0.23354045387982492\n",
      "Iteration 150 | Cost: 0.2326672574997645\n",
      "Iteration 160 | Cost: 0.2319453004130076\n",
      "Iteration 170 | Cost: 0.23134159634960505\n",
      "Iteration 180 | Cost: 0.23083051433944138\n",
      "Iteration 190 | Cost: 0.23039213426095675\n",
      "Iteration 200 | Cost: 0.230010970391324\n",
      "Iteration 210 | Cost: 0.22967498054802973\n",
      "Iteration 220 | Cost: 0.22937479687759968\n",
      "Iteration 230 | Cost: 0.22910312867321245\n",
      "Iteration 240 | Cost: 0.22885429871765695\n",
      "Iteration 250 | Cost: 0.2286238832716852\n",
      "Iteration 260 | Cost: 0.2284084325188784\n",
      "Iteration 270 | Cost: 0.2282052534699793\n",
      "Iteration 280 | Cost: 0.22801224135834344\n",
      "Iteration 290 | Cost: 0.22782774868444175\n",
      "Iteration 300 | Cost: 0.2276504834934669\n",
      "Iteration 310 | Cost: 0.22747943035294352\n",
      "Iteration 320 | Cost: 0.22731378895855536\n",
      "Iteration 330 | Cost: 0.2271529264306037\n",
      "Iteration 340 | Cost: 0.22699634024387574\n",
      "Iteration 350 | Cost: 0.22684362941707886\n",
      "Iteration 360 | Cost: 0.22669447211848814\n",
      "Iteration 370 | Cost: 0.2265486082562941\n",
      "Iteration 380 | Cost: 0.22640582594188294\n",
      "Iteration 390 | Cost: 0.22626595096253846\n",
      "Iteration 400 | Cost: 0.22612883859282473\n",
      "Iteration 410 | Cost: 0.22599436722359914\n",
      "Iteration 420 | Cost: 0.22586243340385626\n",
      "Iteration 430 | Cost: 0.22573294798088728\n",
      "Iteration 440 | Cost: 0.2256058330943653\n",
      "Iteration 450 | Cost: 0.2254810198344385\n",
      "Iteration 460 | Cost: 0.22535844641622843\n",
      "Iteration 470 | Cost: 0.22523805675600642\n",
      "Iteration 480 | Cost: 0.22511979935986307\n",
      "Iteration 490 | Cost: 0.22500362645553482\n",
      "Iteration 500 | Cost: 0.2248894933134763\n",
      "Iteration 510 | Cost: 0.2247773577152539\n",
      "Iteration 520 | Cost: 0.22466717953665452\n",
      "Iteration 530 | Cost: 0.22455892042014716\n",
      "Iteration 540 | Cost: 0.22445254351696572\n",
      "Iteration 550 | Cost: 0.2243480132834601\n",
      "Iteration 560 | Cost: 0.22424529531976842\n",
      "Iteration 570 | Cost: 0.22414435624150975\n",
      "Iteration 580 | Cost: 0.22404516357725815\n",
      "Iteration 590 | Cost: 0.2239476856861602\n",
      "Iteration 600 | Cost: 0.22385189169130534\n",
      "Iteration 610 | Cost: 0.22375775142542847\n",
      "Iteration 620 | Cost: 0.22366523538627853\n",
      "Iteration 630 | Cost: 0.22357431469957673\n",
      "Iteration 640 | Cost: 0.22348496108794252\n",
      "Iteration 650 | Cost: 0.22339714684452489\n",
      "Iteration 660 | Cost: 0.22331084481035085\n",
      "Iteration 670 | Cost: 0.22322602835462313\n",
      "Iteration 680 | Cost: 0.223142671357363\n",
      "Iteration 690 | Cost: 0.22306074819392951\n",
      "Iteration 700 | Cost: 0.22298023372104553\n",
      "Iteration 710 | Cost: 0.22290110326404383\n",
      "Iteration 720 | Cost: 0.22282333260510487\n",
      "Iteration 730 | Cost: 0.22274689797231126\n",
      "Iteration 740 | Cost: 0.222671776029377\n",
      "Iteration 750 | Cost: 0.22259794386594262\n",
      "Iteration 760 | Cost: 0.22252537898834931\n",
      "Iteration 770 | Cost: 0.22245405931082218\n",
      "Iteration 780 | Cost: 0.2223839631470093\n",
      "Iteration 790 | Cost: 0.22231506920183156\n",
      "Iteration 800 | Cost: 0.2222473565636093\n",
      "Iteration 810 | Cost: 0.22218080469643692\n",
      "Iteration 820 | Cost: 0.222115393432783\n",
      "Iteration 830 | Cost: 0.22205110296629677\n",
      "Iteration 840 | Cost: 0.22198791384480615\n",
      "Iteration 850 | Cost: 0.22192580696349423\n",
      "Iteration 860 | Cost: 0.22186476355824356\n",
      "Iteration 870 | Cost: 0.221804765199139\n",
      "Iteration 880 | Cost: 0.22174579378412174\n",
      "Iteration 890 | Cost: 0.22168783153278768\n",
      "Iteration 900 | Cost: 0.22163086098032353\n",
      "Iteration 910 | Cost: 0.22157486497157688\n",
      "Iteration 920 | Cost: 0.22151982665525352\n",
      "Iteration 930 | Cost: 0.22146572947824003\n",
      "Iteration 940 | Cost: 0.22141255718004568\n",
      "Iteration 950 | Cost: 0.2213602937873613\n",
      "Iteration 960 | Cost: 0.22130892360873164\n",
      "Iteration 970 | Cost: 0.22125843122933717\n",
      "Iteration 980 | Cost: 0.22120880150588387\n",
      "Iteration 990 | Cost: 0.2211600195615968\n",
      "Iteration 1000 | Cost: 0.22111207078131556\n"
     ]
    }
   ],
   "source": [
    "w_init = np.array([0,0,0,0,0,0,0])\n",
    "\n",
    "optimal_w, optimal_b = poly_gradient_descent(X, y_train, w=w_init)"
   ]
  },
  {
   "cell_type": "code",
   "execution_count": 99,
   "metadata": {},
   "outputs": [
    {
     "name": "stdout",
     "output_type": "stream",
     "text": [
      "\n",
      "The Optimal Weights Are As follows:\n",
      "W_1: 0.4931115977049638\n",
      "W_2: 0.013427184038663196\n",
      "W_3: 0.20135350421074374\n",
      "W_4: 0.01000368914134294\n",
      "W_5: 0.021504093262484845\n",
      "w_6: -0.006044940022246106\n",
      "w_7: -0.022732307025509987\n",
      "\n",
      "The Optimal Bias is b: -0.008589587070381969\n",
      "\n"
     ]
    }
   ],
   "source": [
    "print(f\"\"\"\n",
    "The Optimal Weights Are As follows:\n",
    "W_1: {optimal_w[0]}\n",
    "W_2: {optimal_w[1]}\n",
    "W_3: {optimal_w[2]}\n",
    "W_4: {optimal_w[3]}\n",
    "W_5: {optimal_w[4]}\n",
    "w_6: {optimal_w[5]}\n",
    "w_7: {optimal_w[6]}\n",
    "\n",
    "The Optimal Bias is b: {optimal_b}\n",
    "\"\"\")"
   ]
  },
  {
   "cell_type": "markdown",
   "metadata": {},
   "source": [
    "I'd love to plot this but plotting something with 3 variables entails plotting it in 4D which we know is not possible (at the moment). We can however proceed with measuring it's accuracy"
   ]
  },
  {
   "cell_type": "code",
   "execution_count": 100,
   "metadata": {},
   "outputs": [
    {
     "name": "stdout",
     "output_type": "stream",
     "text": [
      "Train Set Error: 0.20246337459407063 | Test Set Error: 0.050522222555939106\n"
     ]
    }
   ],
   "source": [
    "# TRAIN ERROR\n",
    "YHAT_TRAIN = z_normalize(np.matmul(X,optimal_w) + optimal_b)\n",
    "ERROR_TRAIN = np.sum((YHAT_TRAIN-y_train)**2) / (2*m)\n",
    "\n",
    "\n",
    "# TEST ERROR\n",
    "X_TEST = np.c_[x_test, x_test**2, x_test**3, x_test**4, x_test**5, x_test**6, x_test**7]\n",
    "YHAT_TEST = z_normalize(np.matmul(X_TEST,optimal_w) + optimal_b)\n",
    "ERROR_TEST = np.sum((YHAT_TEST-y_test)**2) / (2*m)\n",
    "\n",
    "print(f\"Train Set Error: {ERROR_TRAIN} | Test Set Error: {ERROR_TEST}\")"
   ]
  },
  {
   "cell_type": "markdown",
   "metadata": {},
   "source": [
    "Even after increasing the polynomial degree to 7, our model is still underfitting. The next step that I want to pursue is to use other features in the housing data, we'll see what happens then. However, moving forward, instead of coding the algorithm manually, I will instead just use the sklearn library to be more familiar with it."
   ]
  },
  {
   "cell_type": "markdown",
   "metadata": {},
   "source": [
    "## Approach 3: Sklearn Linear Regression Implementation"
   ]
  },
  {
   "cell_type": "code",
   "execution_count": 101,
   "metadata": {},
   "outputs": [],
   "source": [
    "from sklearn.linear_model import SGDRegressor\n",
    "from sklearn.preprocessing import StandardScaler"
   ]
  },
  {
   "cell_type": "code",
   "execution_count": 102,
   "metadata": {},
   "outputs": [
    {
     "data": {
      "text/html": [
       "<div>\n",
       "<style scoped>\n",
       "    .dataframe tbody tr th:only-of-type {\n",
       "        vertical-align: middle;\n",
       "    }\n",
       "\n",
       "    .dataframe tbody tr th {\n",
       "        vertical-align: top;\n",
       "    }\n",
       "\n",
       "    .dataframe thead th {\n",
       "        text-align: right;\n",
       "    }\n",
       "</style>\n",
       "<table border=\"1\" class=\"dataframe\">\n",
       "  <thead>\n",
       "    <tr style=\"text-align: right;\">\n",
       "      <th></th>\n",
       "      <th>SquareFeet</th>\n",
       "      <th>Bedrooms</th>\n",
       "      <th>Bathrooms</th>\n",
       "      <th>Neighborhood</th>\n",
       "      <th>YearBuilt</th>\n",
       "      <th>Price</th>\n",
       "    </tr>\n",
       "  </thead>\n",
       "  <tbody>\n",
       "    <tr>\n",
       "      <th>0</th>\n",
       "      <td>2126</td>\n",
       "      <td>4</td>\n",
       "      <td>1</td>\n",
       "      <td>Rural</td>\n",
       "      <td>1969</td>\n",
       "      <td>215355.283618</td>\n",
       "    </tr>\n",
       "    <tr>\n",
       "      <th>1</th>\n",
       "      <td>2459</td>\n",
       "      <td>3</td>\n",
       "      <td>2</td>\n",
       "      <td>Rural</td>\n",
       "      <td>1980</td>\n",
       "      <td>195014.221626</td>\n",
       "    </tr>\n",
       "    <tr>\n",
       "      <th>2</th>\n",
       "      <td>1860</td>\n",
       "      <td>2</td>\n",
       "      <td>1</td>\n",
       "      <td>Suburb</td>\n",
       "      <td>1970</td>\n",
       "      <td>306891.012076</td>\n",
       "    </tr>\n",
       "    <tr>\n",
       "      <th>3</th>\n",
       "      <td>2294</td>\n",
       "      <td>2</td>\n",
       "      <td>1</td>\n",
       "      <td>Urban</td>\n",
       "      <td>1996</td>\n",
       "      <td>206786.787153</td>\n",
       "    </tr>\n",
       "    <tr>\n",
       "      <th>4</th>\n",
       "      <td>2130</td>\n",
       "      <td>5</td>\n",
       "      <td>2</td>\n",
       "      <td>Suburb</td>\n",
       "      <td>2001</td>\n",
       "      <td>272436.239065</td>\n",
       "    </tr>\n",
       "  </tbody>\n",
       "</table>\n",
       "</div>"
      ],
      "text/plain": [
       "   SquareFeet  Bedrooms  Bathrooms Neighborhood  YearBuilt          Price\n",
       "0        2126         4          1        Rural       1969  215355.283618\n",
       "1        2459         3          2        Rural       1980  195014.221626\n",
       "2        1860         2          1       Suburb       1970  306891.012076\n",
       "3        2294         2          1        Urban       1996  206786.787153\n",
       "4        2130         5          2       Suburb       2001  272436.239065"
      ]
     },
     "execution_count": 102,
     "metadata": {},
     "output_type": "execute_result"
    }
   ],
   "source": [
    "house_price_df = pd.read_csv('housing_price_dataset.csv')\n",
    "house_price_df.head()"
   ]
  },
  {
   "cell_type": "code",
   "execution_count": 103,
   "metadata": {},
   "outputs": [
    {
     "data": {
      "text/html": [
       "<div>\n",
       "<style scoped>\n",
       "    .dataframe tbody tr th:only-of-type {\n",
       "        vertical-align: middle;\n",
       "    }\n",
       "\n",
       "    .dataframe tbody tr th {\n",
       "        vertical-align: top;\n",
       "    }\n",
       "\n",
       "    .dataframe thead th {\n",
       "        text-align: right;\n",
       "    }\n",
       "</style>\n",
       "<table border=\"1\" class=\"dataframe\">\n",
       "  <thead>\n",
       "    <tr style=\"text-align: right;\">\n",
       "      <th></th>\n",
       "      <th>SquareFeet</th>\n",
       "      <th>Bedrooms</th>\n",
       "      <th>Bathrooms</th>\n",
       "      <th>Neighborhood</th>\n",
       "      <th>YearBuilt</th>\n",
       "      <th>Price</th>\n",
       "      <th>Age</th>\n",
       "    </tr>\n",
       "  </thead>\n",
       "  <tbody>\n",
       "    <tr>\n",
       "      <th>0</th>\n",
       "      <td>2126</td>\n",
       "      <td>4</td>\n",
       "      <td>1</td>\n",
       "      <td>Rural</td>\n",
       "      <td>1969</td>\n",
       "      <td>215355.283618</td>\n",
       "      <td>51</td>\n",
       "    </tr>\n",
       "    <tr>\n",
       "      <th>1</th>\n",
       "      <td>2459</td>\n",
       "      <td>3</td>\n",
       "      <td>2</td>\n",
       "      <td>Rural</td>\n",
       "      <td>1980</td>\n",
       "      <td>195014.221626</td>\n",
       "      <td>40</td>\n",
       "    </tr>\n",
       "    <tr>\n",
       "      <th>2</th>\n",
       "      <td>1860</td>\n",
       "      <td>2</td>\n",
       "      <td>1</td>\n",
       "      <td>Suburb</td>\n",
       "      <td>1970</td>\n",
       "      <td>306891.012076</td>\n",
       "      <td>50</td>\n",
       "    </tr>\n",
       "    <tr>\n",
       "      <th>3</th>\n",
       "      <td>2294</td>\n",
       "      <td>2</td>\n",
       "      <td>1</td>\n",
       "      <td>Urban</td>\n",
       "      <td>1996</td>\n",
       "      <td>206786.787153</td>\n",
       "      <td>24</td>\n",
       "    </tr>\n",
       "    <tr>\n",
       "      <th>4</th>\n",
       "      <td>2130</td>\n",
       "      <td>5</td>\n",
       "      <td>2</td>\n",
       "      <td>Suburb</td>\n",
       "      <td>2001</td>\n",
       "      <td>272436.239065</td>\n",
       "      <td>19</td>\n",
       "    </tr>\n",
       "  </tbody>\n",
       "</table>\n",
       "</div>"
      ],
      "text/plain": [
       "   SquareFeet  Bedrooms  Bathrooms Neighborhood  YearBuilt          Price  Age\n",
       "0        2126         4          1        Rural       1969  215355.283618   51\n",
       "1        2459         3          2        Rural       1980  195014.221626   40\n",
       "2        1860         2          1       Suburb       1970  306891.012076   50\n",
       "3        2294         2          1        Urban       1996  206786.787153   24\n",
       "4        2130         5          2       Suburb       2001  272436.239065   19"
      ]
     },
     "execution_count": 103,
     "metadata": {},
     "output_type": "execute_result"
    }
   ],
   "source": [
    "# We're going to do some feature engineering, we're gonna find the age of the house relative to present day\n",
    "house_price_df['Age'] = 2020 - house_price_df['YearBuilt']\n",
    "house_price_df.head()"
   ]
  },
  {
   "cell_type": "code",
   "execution_count": 104,
   "metadata": {},
   "outputs": [
    {
     "data": {
      "text/html": [
       "<div>\n",
       "<style scoped>\n",
       "    .dataframe tbody tr th:only-of-type {\n",
       "        vertical-align: middle;\n",
       "    }\n",
       "\n",
       "    .dataframe tbody tr th {\n",
       "        vertical-align: top;\n",
       "    }\n",
       "\n",
       "    .dataframe thead th {\n",
       "        text-align: right;\n",
       "    }\n",
       "</style>\n",
       "<table border=\"1\" class=\"dataframe\">\n",
       "  <thead>\n",
       "    <tr style=\"text-align: right;\">\n",
       "      <th></th>\n",
       "      <th>SquareFeet</th>\n",
       "      <th>Bedrooms</th>\n",
       "      <th>Bathrooms</th>\n",
       "      <th>YearBuilt</th>\n",
       "      <th>Price</th>\n",
       "      <th>Age</th>\n",
       "    </tr>\n",
       "  </thead>\n",
       "  <tbody>\n",
       "    <tr>\n",
       "      <th>count</th>\n",
       "      <td>50000.000000</td>\n",
       "      <td>50000.000000</td>\n",
       "      <td>50000.000000</td>\n",
       "      <td>50000.000000</td>\n",
       "      <td>50000.000000</td>\n",
       "      <td>50000.000000</td>\n",
       "    </tr>\n",
       "    <tr>\n",
       "      <th>mean</th>\n",
       "      <td>2006.374680</td>\n",
       "      <td>3.498700</td>\n",
       "      <td>1.995420</td>\n",
       "      <td>1985.404420</td>\n",
       "      <td>224827.325151</td>\n",
       "      <td>34.595580</td>\n",
       "    </tr>\n",
       "    <tr>\n",
       "      <th>std</th>\n",
       "      <td>575.513241</td>\n",
       "      <td>1.116326</td>\n",
       "      <td>0.815851</td>\n",
       "      <td>20.719377</td>\n",
       "      <td>76141.842966</td>\n",
       "      <td>20.719377</td>\n",
       "    </tr>\n",
       "    <tr>\n",
       "      <th>min</th>\n",
       "      <td>1000.000000</td>\n",
       "      <td>2.000000</td>\n",
       "      <td>1.000000</td>\n",
       "      <td>1950.000000</td>\n",
       "      <td>-36588.165397</td>\n",
       "      <td>-1.000000</td>\n",
       "    </tr>\n",
       "    <tr>\n",
       "      <th>25%</th>\n",
       "      <td>1513.000000</td>\n",
       "      <td>3.000000</td>\n",
       "      <td>1.000000</td>\n",
       "      <td>1967.000000</td>\n",
       "      <td>169955.860225</td>\n",
       "      <td>17.000000</td>\n",
       "    </tr>\n",
       "    <tr>\n",
       "      <th>50%</th>\n",
       "      <td>2007.000000</td>\n",
       "      <td>3.000000</td>\n",
       "      <td>2.000000</td>\n",
       "      <td>1985.000000</td>\n",
       "      <td>225052.141166</td>\n",
       "      <td>35.000000</td>\n",
       "    </tr>\n",
       "    <tr>\n",
       "      <th>75%</th>\n",
       "      <td>2506.000000</td>\n",
       "      <td>4.000000</td>\n",
       "      <td>3.000000</td>\n",
       "      <td>2003.000000</td>\n",
       "      <td>279373.630052</td>\n",
       "      <td>53.000000</td>\n",
       "    </tr>\n",
       "    <tr>\n",
       "      <th>max</th>\n",
       "      <td>2999.000000</td>\n",
       "      <td>5.000000</td>\n",
       "      <td>3.000000</td>\n",
       "      <td>2021.000000</td>\n",
       "      <td>492195.259972</td>\n",
       "      <td>70.000000</td>\n",
       "    </tr>\n",
       "  </tbody>\n",
       "</table>\n",
       "</div>"
      ],
      "text/plain": [
       "         SquareFeet      Bedrooms     Bathrooms     YearBuilt          Price  \\\n",
       "count  50000.000000  50000.000000  50000.000000  50000.000000   50000.000000   \n",
       "mean    2006.374680      3.498700      1.995420   1985.404420  224827.325151   \n",
       "std      575.513241      1.116326      0.815851     20.719377   76141.842966   \n",
       "min     1000.000000      2.000000      1.000000   1950.000000  -36588.165397   \n",
       "25%     1513.000000      3.000000      1.000000   1967.000000  169955.860225   \n",
       "50%     2007.000000      3.000000      2.000000   1985.000000  225052.141166   \n",
       "75%     2506.000000      4.000000      3.000000   2003.000000  279373.630052   \n",
       "max     2999.000000      5.000000      3.000000   2021.000000  492195.259972   \n",
       "\n",
       "                Age  \n",
       "count  50000.000000  \n",
       "mean      34.595580  \n",
       "std       20.719377  \n",
       "min       -1.000000  \n",
       "25%       17.000000  \n",
       "50%       35.000000  \n",
       "75%       53.000000  \n",
       "max       70.000000  "
      ]
     },
     "execution_count": 104,
     "metadata": {},
     "output_type": "execute_result"
    }
   ],
   "source": [
    "house_price_df.describe()"
   ]
  },
  {
   "cell_type": "code",
   "execution_count": 105,
   "metadata": {},
   "outputs": [
    {
     "data": {
      "image/png": "[encoded data removed]",
      "text/plain": [
       "<Figure size 720x720 with 20 Axes>"
      ]
     },
     "metadata": {
      "needs_background": "light"
     },
     "output_type": "display_data"
    }
   ],
   "source": [
    "sns.pairplot(house_price_df[['SquareFeet', 'Bedrooms', \"Bathrooms\", \"Price\"]])\n",
    "plt.show()"
   ]
  },
  {
   "cell_type": "code",
   "execution_count": 106,
   "metadata": {},
   "outputs": [
    {
     "data": {
      "image/png": "[encoded data removed]",
      "text/plain": [
       "<Figure size 432x288 with 1 Axes>"
      ]
     },
     "metadata": {
      "needs_background": "light"
     },
     "output_type": "display_data"
    }
   ],
   "source": [
    "sns.boxplot(x='Price', data=house_price_df)\n",
    "plt.show()"
   ]
  },
  {
   "cell_type": "code",
   "execution_count": 121,
   "metadata": {},
   "outputs": [],
   "source": [
    "important_columns = ['SquareFeet', 'Bedrooms', \"Bathrooms\", \"Age\", \"Price\"]\n",
    "new_df = house_price_df[important_columns]\n",
    "\n",
    "train_data = new_df[:40000]\n",
    "test_data = new_df[40000:]\n",
    "\n",
    "x_train = train_data[['SquareFeet', 'Bedrooms', \"Bathrooms\", \"Age\"]]\n",
    "y_train = train_data['Price']\n",
    "\n",
    "x_test = test_data[['SquareFeet', 'Bedrooms', \"Bathrooms\", \"Age\"]]\n",
    "y_test = test_data['Price']"
   ]
  },
  {
   "cell_type": "code",
   "execution_count": 108,
   "metadata": {},
   "outputs": [],
   "source": [
    "# Now we initialize the scaler and the linear model\n",
    "scaler = StandardScaler()\n",
    "model = SGDRegressor(max_iter=1000)"
   ]
  },
  {
   "cell_type": "code",
   "execution_count": 109,
   "metadata": {},
   "outputs": [
    {
     "data": {
      "text/plain": [
       "array([[ 0.20369119,  0.44810228, -1.21671652,  0.79379014],\n",
       "       [ 0.78274628, -0.44837122,  0.00808368,  0.26241081],\n",
       "       [-0.25885732, -1.34484471, -1.21671652,  0.74548293],\n",
       "       ...,\n",
       "       [ 0.47669914,  1.34457577,  1.23288388, -1.66987766],\n",
       "       [ 0.5845112 ,  1.34457577,  1.23288388,  0.35902524],\n",
       "       [-1.62215818,  1.34457577,  1.23288388, -0.12404688]])"
      ]
     },
     "execution_count": 109,
     "metadata": {},
     "output_type": "execute_result"
    }
   ],
   "source": [
    "# Now we normalize the data\n",
    "x_train_norm = scaler.fit_transform(x_train)\n",
    "x_train_norm"
   ]
  },
  {
   "cell_type": "code",
   "execution_count": 110,
   "metadata": {},
   "outputs": [
    {
     "data": {
      "text/plain": [
       "SGDRegressor()"
      ]
     },
     "execution_count": 110,
     "metadata": {},
     "output_type": "execute_result"
    }
   ],
   "source": [
    "# Now we fit the model\n",
    "model.fit(x_train_norm, y_train)"
   ]
  },
  {
   "cell_type": "code",
   "execution_count": 111,
   "metadata": {},
   "outputs": [
    {
     "name": "stdout",
     "output_type": "stream",
     "text": [
      "\n",
      "Optimal W: [56363.92716676  4831.87772211  2014.68850335   413.44179833]\n",
      "Optimal b: [224505.70627782]\n",
      "\n"
     ]
    }
   ],
   "source": [
    "optimal_w = model.coef_\n",
    "optimal_b = model.intercept_\n",
    "\n",
    "print(f\"\"\"\n",
    "Optimal W: {optimal_w}\n",
    "Optimal b: {optimal_b}\n",
    "\"\"\")"
   ]
  },
  {
   "cell_type": "code",
   "execution_count": 112,
   "metadata": {},
   "outputs": [],
   "source": [
    "# Don't forget to scale x_test\n",
    "x_test_norm = scaler.fit_transform(x_test)"
   ]
  },
  {
   "cell_type": "code",
   "execution_count": 113,
   "metadata": {},
   "outputs": [],
   "source": [
    "y_pred = model.predict(x_test_norm)"
   ]
  },
  {
   "cell_type": "code",
   "execution_count": 114,
   "metadata": {},
   "outputs": [
    {
     "name": "stdout",
     "output_type": "stream",
     "text": [
      "The mean squared error for the model is: 2503913162.470141\n"
     ]
    }
   ],
   "source": [
    "from sklearn.metrics import mean_squared_error\n",
    "\n",
    "error = mean_squared_error(y_test, y_pred)\n",
    "\n",
    "print(f\"The mean squared error for the model is: {error}\")"
   ]
  },
  {
   "cell_type": "markdown",
   "metadata": {},
   "source": [
    "The error is way too high. It looks like a linear model just isn't suited for this data type! Best thing to do moving forward in my opinion, is to try other approaches like decision trees or deep neural networks. \n",
    "\n",
    "AND SO SPEAKING OF WHICH:\n",
    "\n",
    "We're going to try the final approach that is using a deep neural network to carry out supervised learning on this dataset!"
   ]
  },
  {
   "cell_type": "markdown",
   "metadata": {},
   "source": [
    "## Approach 4: Deep Neural Network (Supervised Learning)"
   ]
  },
  {
   "cell_type": "code",
   "execution_count": 115,
   "metadata": {},
   "outputs": [],
   "source": [
    "import tensorflow as tf\n",
    "\n",
    "from tensorflow.keras.models import Sequential\n",
    "from tensorflow.keras.layers import Dense\n",
    "from tensorflow.keras.losses import MeanSquaredError\n",
    "from tensorflow.keras.optimizers import Adam"
   ]
  },
  {
   "cell_type": "code",
   "execution_count": 116,
   "metadata": {},
   "outputs": [
    {
     "data": {
      "text/plain": [
       "4"
      ]
     },
     "execution_count": 116,
     "metadata": {},
     "output_type": "execute_result"
    }
   ],
   "source": [
    "num_features = x_train_norm.shape[1]\n",
    "num_features"
   ]
  },
  {
   "cell_type": "code",
   "execution_count": 149,
   "metadata": {},
   "outputs": [],
   "source": [
    "model = Sequential([\n",
    "    tf.keras.Input(shape=num_features),\n",
    "    Dense(units=256, activation='relu'),\n",
    "    Dense(units=128, activation='relu'),\n",
    "    Dense(units=64, activation='relu'),\n",
    "    Dense(units=16, activation='relu'),\n",
    "    Dense(units=1, activation='linear')\n",
    "])\n",
    "\n",
    "loss_func = MeanSquaredError()\n",
    "optim_func = Adam()\n",
    "alpha = 0.001\n",
    "\n",
    "model.compile(optimizer=Adam(alpha), loss=loss_func)"
   ]
  },
  {
   "cell_type": "code",
   "execution_count": 150,
   "metadata": {},
   "outputs": [
    {
     "name": "stdout",
     "output_type": "stream",
     "text": [
      "Model: \"sequential_6\"\n",
      "_________________________________________________________________\n",
      " Layer (type)                Output Shape              Param #   \n",
      "=================================================================\n",
      " dense_30 (Dense)            (None, 256)               1280      \n",
      "                                                                 \n",
      " dense_31 (Dense)            (None, 128)               32896     \n",
      "                                                                 \n",
      " dense_32 (Dense)            (None, 64)                8256      \n",
      "                                                                 \n",
      " dense_33 (Dense)            (None, 16)                1040      \n",
      "                                                                 \n",
      " dense_34 (Dense)            (None, 1)                 17        \n",
      "                                                                 \n",
      "=================================================================\n",
      "Total params: 43489 (169.88 KB)\n",
      "Trainable params: 43489 (169.88 KB)\n",
      "Non-trainable params: 0 (0.00 Byte)\n",
      "_________________________________________________________________\n"
     ]
    }
   ],
   "source": [
    "model.summary()"
   ]
  },
  {
   "cell_type": "code",
   "execution_count": 151,
   "metadata": {},
   "outputs": [
    {
     "name": "stdout",
     "output_type": "stream",
     "text": [
      "Epoch 1/100\n",
      "1250/1250 [==============================] - 3s 2ms/step - loss: 10385830912.0000\n",
      "Epoch 2/100\n",
      "1250/1250 [==============================] - 1s 1ms/step - loss: 2597031680.0000\n",
      "Epoch 3/100\n",
      "1250/1250 [==============================] - 1s 1ms/step - loss: 2533327104.0000\n",
      "Epoch 4/100\n",
      "1250/1250 [==============================] - 1s 1ms/step - loss: 2515144704.0000\n",
      "Epoch 5/100\n",
      "1250/1250 [==============================] - 1s 1ms/step - loss: 2510834432.0000\n",
      "Epoch 6/100\n",
      "1250/1250 [==============================] - 1s 1ms/step - loss: 2507465216.0000\n",
      "Epoch 7/100\n",
      "1250/1250 [==============================] - 1s 1ms/step - loss: 2508000768.0000\n",
      "Epoch 8/100\n",
      "1250/1250 [==============================] - 1s 1ms/step - loss: 2507221248.0000\n",
      "Epoch 9/100\n",
      "1250/1250 [==============================] - 1s 1ms/step - loss: 2505265152.0000\n",
      "Epoch 10/100\n",
      "1250/1250 [==============================] - 1s 1ms/step - loss: 2504336384.0000\n",
      "Epoch 11/100\n",
      "1250/1250 [==============================] - 1s 1ms/step - loss: 2504649984.0000\n",
      "Epoch 12/100\n",
      "1250/1250 [==============================] - 1s 1ms/step - loss: 2506807808.0000\n",
      "Epoch 13/100\n",
      "1250/1250 [==============================] - 1s 1ms/step - loss: 2505071872.0000\n",
      "Epoch 14/100\n",
      "1250/1250 [==============================] - 1s 1ms/step - loss: 2504192000.0000\n",
      "Epoch 15/100\n",
      "1250/1250 [==============================] - 1s 1ms/step - loss: 2508834816.0000\n",
      "Epoch 16/100\n",
      "1250/1250 [==============================] - 1s 1ms/step - loss: 2502454784.0000\n",
      "Epoch 17/100\n",
      "1250/1250 [==============================] - 1s 1ms/step - loss: 2506513920.0000\n",
      "Epoch 18/100\n",
      "1250/1250 [==============================] - 2s 1ms/step - loss: 2507726080.0000\n",
      "Epoch 19/100\n",
      "1250/1250 [==============================] - 1s 1ms/step - loss: 2503968768.0000\n",
      "Epoch 20/100\n",
      "1250/1250 [==============================] - 1s 1ms/step - loss: 2504574720.0000\n",
      "Epoch 21/100\n",
      "1250/1250 [==============================] - 1s 1ms/step - loss: 2505010432.0000\n",
      "Epoch 22/100\n",
      "1250/1250 [==============================] - 1s 1ms/step - loss: 2505992192.0000\n",
      "Epoch 23/100\n",
      "1250/1250 [==============================] - 1s 1ms/step - loss: 2502809856.0000\n",
      "Epoch 24/100\n",
      "1250/1250 [==============================] - 1s 1ms/step - loss: 2505378560.0000\n",
      "Epoch 25/100\n",
      "1250/1250 [==============================] - 1s 1ms/step - loss: 2505770240.0000\n",
      "Epoch 26/100\n",
      "1250/1250 [==============================] - 1s 1ms/step - loss: 2504037120.0000\n",
      "Epoch 27/100\n",
      "1250/1250 [==============================] - 1s 1ms/step - loss: 2505235456.0000\n",
      "Epoch 28/100\n",
      "1250/1250 [==============================] - 1s 1ms/step - loss: 2502090240.0000\n",
      "Epoch 29/100\n",
      "1250/1250 [==============================] - 1s 1ms/step - loss: 2504705536.0000\n",
      "Epoch 30/100\n",
      "1250/1250 [==============================] - 1s 1ms/step - loss: 2504272640.0000\n",
      "Epoch 31/100\n",
      "1250/1250 [==============================] - 1s 1ms/step - loss: 2504869632.0000\n",
      "Epoch 32/100\n",
      "1250/1250 [==============================] - 1s 1ms/step - loss: 2504474368.0000\n",
      "Epoch 33/100\n",
      "1250/1250 [==============================] - 1s 1ms/step - loss: 2503927040.0000\n",
      "Epoch 34/100\n",
      "1250/1250 [==============================] - 1s 1ms/step - loss: 2504431360.0000\n",
      "Epoch 35/100\n",
      "1250/1250 [==============================] - 1s 1ms/step - loss: 2506251520.0000\n",
      "Epoch 36/100\n",
      "1250/1250 [==============================] - 1s 1ms/step - loss: 2503420416.0000\n",
      "Epoch 37/100\n",
      "1250/1250 [==============================] - 1s 1ms/step - loss: 2503805696.0000\n",
      "Epoch 38/100\n",
      "1250/1250 [==============================] - 1s 1ms/step - loss: 2506017280.0000\n",
      "Epoch 39/100\n",
      "1250/1250 [==============================] - 1s 1ms/step - loss: 2503606528.0000\n",
      "Epoch 40/100\n",
      "1250/1250 [==============================] - 1s 1ms/step - loss: 2504972032.0000\n",
      "Epoch 41/100\n",
      "1250/1250 [==============================] - 1s 1ms/step - loss: 2502628352.0000\n",
      "Epoch 42/100\n",
      "1250/1250 [==============================] - 1s 1ms/step - loss: 2504412416.0000\n",
      "Epoch 43/100\n",
      "1250/1250 [==============================] - 1s 1ms/step - loss: 2507671552.0000\n",
      "Epoch 44/100\n",
      "1250/1250 [==============================] - 1s 1ms/step - loss: 2503485440.0000\n",
      "Epoch 45/100\n",
      "1250/1250 [==============================] - 1s 1ms/step - loss: 2505865472.0000\n",
      "Epoch 46/100\n",
      "1250/1250 [==============================] - 1s 1ms/step - loss: 2504582400.0000\n",
      "Epoch 47/100\n",
      "1250/1250 [==============================] - 1s 1ms/step - loss: 2504445440.0000\n",
      "Epoch 48/100\n",
      "1250/1250 [==============================] - 1s 1ms/step - loss: 2503780864.0000\n",
      "Epoch 49/100\n",
      "1250/1250 [==============================] - 1s 1ms/step - loss: 2504406784.0000\n",
      "Epoch 50/100\n",
      "1250/1250 [==============================] - 1s 1ms/step - loss: 2499996672.0000\n",
      "Epoch 51/100\n",
      "1250/1250 [==============================] - 2s 1ms/step - loss: 2501641472.0000\n",
      "Epoch 52/100\n",
      "1250/1250 [==============================] - 2s 1ms/step - loss: 2503559936.0000\n",
      "Epoch 53/100\n",
      "1250/1250 [==============================] - 2s 1ms/step - loss: 2504455168.0000\n",
      "Epoch 54/100\n",
      "1250/1250 [==============================] - 1s 1ms/step - loss: 2501889024.0000\n",
      "Epoch 55/100\n",
      "1250/1250 [==============================] - 1s 1ms/step - loss: 2503207168.0000\n",
      "Epoch 56/100\n",
      "1250/1250 [==============================] - 1s 1ms/step - loss: 2505901312.0000\n",
      "Epoch 57/100\n",
      "1250/1250 [==============================] - 1s 1ms/step - loss: 2504238336.0000\n",
      "Epoch 58/100\n",
      "1250/1250 [==============================] - 1s 1ms/step - loss: 2500759296.0000\n",
      "Epoch 59/100\n",
      "1250/1250 [==============================] - 1s 1ms/step - loss: 2505572864.0000\n",
      "Epoch 60/100\n",
      "1250/1250 [==============================] - 1s 1ms/step - loss: 2507360512.0000\n",
      "Epoch 61/100\n",
      "1250/1250 [==============================] - 1s 1ms/step - loss: 2503372544.0000\n",
      "Epoch 62/100\n",
      "1250/1250 [==============================] - 1s 1ms/step - loss: 2503897856.0000\n",
      "Epoch 63/100\n",
      "1250/1250 [==============================] - 1s 1ms/step - loss: 2502376960.0000\n",
      "Epoch 64/100\n",
      "1250/1250 [==============================] - 1s 1ms/step - loss: 2505579008.0000\n",
      "Epoch 65/100\n",
      "1250/1250 [==============================] - 1s 1ms/step - loss: 2502391040.0000\n",
      "Epoch 66/100\n",
      "1250/1250 [==============================] - 1s 1ms/step - loss: 2502003456.0000\n",
      "Epoch 67/100\n",
      "1250/1250 [==============================] - 1s 1ms/step - loss: 2503359744.0000\n",
      "Epoch 68/100\n",
      "1250/1250 [==============================] - 1s 1ms/step - loss: 2501641984.0000\n",
      "Epoch 69/100\n",
      "1250/1250 [==============================] - 1s 1ms/step - loss: 2502206976.0000\n",
      "Epoch 70/100\n",
      "1250/1250 [==============================] - 1s 1ms/step - loss: 2504991488.0000\n",
      "Epoch 71/100\n",
      "1250/1250 [==============================] - 1s 1ms/step - loss: 2504202240.0000\n",
      "Epoch 72/100\n",
      "1250/1250 [==============================] - 1s 1ms/step - loss: 2504997376.0000\n",
      "Epoch 73/100\n",
      "1250/1250 [==============================] - 1s 1ms/step - loss: 2504056576.0000\n",
      "Epoch 74/100\n",
      "1250/1250 [==============================] - 1s 1ms/step - loss: 2502032640.0000\n",
      "Epoch 75/100\n",
      "1250/1250 [==============================] - 1s 1ms/step - loss: 2502726912.0000\n",
      "Epoch 76/100\n",
      "1250/1250 [==============================] - 1s 1ms/step - loss: 2504111360.0000\n",
      "Epoch 77/100\n",
      "1250/1250 [==============================] - 1s 1ms/step - loss: 2505712128.0000\n",
      "Epoch 78/100\n",
      "1250/1250 [==============================] - 1s 1ms/step - loss: 2505651712.0000\n",
      "Epoch 79/100\n",
      "1250/1250 [==============================] - 1s 1ms/step - loss: 2501180160.0000\n",
      "Epoch 80/100\n",
      "1250/1250 [==============================] - 1s 1ms/step - loss: 2501793024.0000\n",
      "Epoch 81/100\n",
      "1250/1250 [==============================] - 1s 1ms/step - loss: 2505098240.0000\n",
      "Epoch 82/100\n",
      "1250/1250 [==============================] - 1s 1ms/step - loss: 2506396416.0000\n",
      "Epoch 83/100\n",
      "1250/1250 [==============================] - 1s 1ms/step - loss: 2503404544.0000\n",
      "Epoch 84/100\n",
      "1250/1250 [==============================] - 1s 1ms/step - loss: 2501955072.0000\n",
      "Epoch 85/100\n",
      "1250/1250 [==============================] - 1s 1ms/step - loss: 2501524224.0000\n",
      "Epoch 86/100\n",
      "1250/1250 [==============================] - 2s 1ms/step - loss: 2504929280.0000\n",
      "Epoch 87/100\n",
      "1250/1250 [==============================] - 2s 1ms/step - loss: 2503730944.0000\n",
      "Epoch 88/100\n",
      "1250/1250 [==============================] - 2s 1ms/step - loss: 2507238912.0000\n",
      "Epoch 89/100\n",
      "1250/1250 [==============================] - 2s 1ms/step - loss: 2502371328.0000\n",
      "Epoch 90/100\n",
      "1250/1250 [==============================] - 2s 1ms/step - loss: 2505100288.0000\n",
      "Epoch 91/100\n",
      "1250/1250 [==============================] - 2s 1ms/step - loss: 2502054912.0000\n",
      "Epoch 92/100\n",
      "1250/1250 [==============================] - 1s 1ms/step - loss: 2502419712.0000\n",
      "Epoch 93/100\n",
      "1250/1250 [==============================] - 2s 1ms/step - loss: 2502426112.0000\n",
      "Epoch 94/100\n",
      "1250/1250 [==============================] - 2s 1ms/step - loss: 2502361600.0000\n",
      "Epoch 95/100\n",
      "1250/1250 [==============================] - 1s 1ms/step - loss: 2503390976.0000\n",
      "Epoch 96/100\n",
      "1250/1250 [==============================] - 2s 1ms/step - loss: 2503284992.0000\n",
      "Epoch 97/100\n",
      "1250/1250 [==============================] - 2s 1ms/step - loss: 2504365056.0000\n",
      "Epoch 98/100\n",
      "1250/1250 [==============================] - 2s 1ms/step - loss: 2500561408.0000\n",
      "Epoch 99/100\n",
      "1250/1250 [==============================] - 2s 2ms/step - loss: 2503842304.0000\n",
      "Epoch 100/100\n",
      "1250/1250 [==============================] - 3s 2ms/step - loss: 2503799808.0000\n"
     ]
    },
    {
     "data": {
      "text/plain": [
       "<keras.src.callbacks.History at 0x1dedb9f7bb0>"
      ]
     },
     "execution_count": 151,
     "metadata": {},
     "output_type": "execute_result"
    }
   ],
   "source": [
    "model.fit(x_train_norm, y_train, epochs=100)"
   ]
  },
  {
   "cell_type": "code",
   "execution_count": 153,
   "metadata": {},
   "outputs": [
    {
     "name": "stdout",
     "output_type": "stream",
     "text": [
      "313/313 [==============================] - 0s 1ms/step\n"
     ]
    },
    {
     "data": {
      "text/plain": [
       "array([[239043.12],\n",
       "       [209867.6 ],\n",
       "       [218341.39],\n",
       "       ...,\n",
       "       [331200.97],\n",
       "       [289314.66],\n",
       "       [184935.53]], dtype=float32)"
      ]
     },
     "execution_count": 153,
     "metadata": {},
     "output_type": "execute_result"
    }
   ],
   "source": [
    "yhat = model.predict(x_test_norm)\n",
    "yhat"
   ]
  },
  {
   "cell_type": "code",
   "execution_count": 148,
   "metadata": {},
   "outputs": [
    {
     "data": {
      "text/plain": [
       "228823.38851516417"
      ]
     },
     "execution_count": 148,
     "metadata": {},
     "output_type": "execute_result"
    }
   ],
   "source": [
    "error = yhat - y_test.array"
   ]
  },
  {
   "cell_type": "markdown",
   "metadata": {},
   "source": [
    "This clearly didn't work either, so the next thing we can consider is probably the use of decision trees. To be fair we could've stopped after doing the linear regression and polynomial regression model, but I just wanted to try them haha"
   ]
  },
  {
   "cell_type": "markdown",
   "metadata": {},
   "source": []
  }
 ],
 "metadata": {
  "kernelspec": {
   "display_name": "Python 3",
   "language": "python",
   "name": "python3"
  },
  "language_info": {
   "codemirror_mode": {
    "name": "ipython",
    "version": 3
   },
   "file_extension": ".py",
   "mimetype": "text/x-python",
   "name": "python",
   "nbconvert_exporter": "python",
   "pygments_lexer": "ipython3",
   "version": "3.10.2"
  }
 },
 "nbformat": 4,
 "nbformat_minor": 2
}
